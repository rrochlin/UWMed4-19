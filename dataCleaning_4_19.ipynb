{
 "metadata": {
  "language_info": {
   "codemirror_mode": {
    "name": "ipython",
    "version": 3
   },
   "file_extension": ".py",
   "mimetype": "text/x-python",
   "name": "python",
   "nbconvert_exporter": "python",
   "pygments_lexer": "ipython3",
   "version": "3.8.5"
  },
  "orig_nbformat": 2,
  "kernelspec": {
   "name": "python3",
   "display_name": "Python 3",
   "language": "python"
  },
  "metadata": {
   "interpreter": {
    "hash": "5751d7c496c272386542b26abd80dd065779a39feb74bf22f2b4e5e7f629ef29"
   }
  }
 },
 "nbformat": 4,
 "nbformat_minor": 2,
 "cells": [
  {
   "source": [
    "### General Imports"
   ],
   "cell_type": "markdown",
   "metadata": {}
  },
  {
   "cell_type": "code",
   "execution_count": 1,
   "metadata": {},
   "outputs": [],
   "source": [
    "import pandas as pd\n",
    "import numpy as np\n",
    "from datetime import datetime as dt\n",
    "import os\n",
    "import glob\n",
    "from cleanUp import cleanUp\n",
    "from fillDf import fillDf\n",
    "from fixYearStamp import fixYearStamp\n",
    "from sklearn.cluster import KMeans\n",
    "import time as clock\n"
   ]
  },
  {
   "cell_type": "code",
   "execution_count": 2,
   "metadata": {},
   "outputs": [],
   "source": [
    "begin = clock.time()"
   ]
  },
  {
   "source": [
    "### Data Cleaning\n",
    "Passing the sensor data through the cleanUp function to get fix timestamps and delete null timestamps."
   ],
   "cell_type": "markdown",
   "metadata": {}
  },
  {
   "cell_type": "code",
   "execution_count": 3,
   "metadata": {},
   "outputs": [],
   "source": [
    "all_csv_files = glob.glob(\"./Data/*.txt\")\n",
    "# insert the desired start time\n",
    "cutOffTime = '4/19/2021 17:00:00'\n",
    "endTime = '4/19/2021 20:00:00'\n",
    "# insert the time rectifying offsets. default of for nothing {'':0}\n",
    "sensorConditions = {'S-01':7,'S-02':7,'S-03':7,'S-04':7,'S-05':7,'S-06':7,'S-15':7,'S-19':7}\n",
    "#This indicates which columns to keep. Here we're taking all of the dP info and the timestamps\n",
    "columns = [0,1,6,7,8,9,10,11]\n",
    "# Enable Data Checking\n",
    "DataChecking = False\n",
    "# Here are obversed timestamps that need to removed from the data\n",
    "badTimes = ['     0/0/0      0:0:0','2165/165/165 165:165:85']\n",
    "# Controls wether zones will be created automatically or by k-means clusters\n",
    "ZoneAutomation = False\n",
    "# Sets either the binning or the manual zones\n",
    "numberOfZones = 4\n",
    "# Sensors to exclude from zone\n",
    "outdoorSensors = ['S-15','S-18','S-19']\n",
    "# 10s of seconds before nebulization to include in the expirement csv files\n",
    "preCursorFactor = 6\n",
    "# which particle to analyze\n",
    "particle = 'Dp>0.3'"
   ]
  },
  {
   "cell_type": "code",
   "execution_count": 4,
   "metadata": {},
   "outputs": [],
   "source": [
    "day = '4/19/2021'\n",
    "expTRange = {\n",
    "\n",
    "    'OR 5 Unblocked':\n",
    "    [\n",
    "    pd.Timestamp(day + ' 5:23:24 PM'),\n",
    "    pd.Timestamp(day + ' 5:32:20 PM'),\n",
    "    pd.Timestamp(day + ' 5:42:00 PM'),\n",
    "    pd.Timestamp(day + ' 5:52:00 PM'),\n",
    "    pd.Timestamp(day + ' 5:58:00 PM'),\n",
    "    pd.Timestamp(day + ' 6:25:20 PM')],\n",
    "    'OR 5 Blocked':\n",
    "    [\n",
    "    pd.Timestamp(day + ' 6:08:50 PM'),\n",
    "    pd.Timestamp(day + ' 6:16:50 PM'),\n",
    "    pd.Timestamp(day + ' 6:25:20 PM')],\n",
    "    'OR 12 Unblocked':\n",
    "    [\n",
    "    pd.Timestamp(day + ' 6:52:50 PM'),\n",
    "    pd.Timestamp(day + ' 7:03:30 PM'),\n",
    "    pd.Timestamp(day + ' 7:13:30 PM')],\n",
    "    'OR 12 Blocked':\n",
    "    [\n",
    "    pd.Timestamp(day + ' 7:25:24 PM'),\n",
    "    pd.Timestamp(day + ' 7:34:45 PM'),\n",
    "    pd.Timestamp(day + ' 7:38:24 PM')],\n",
    "}\n",
    "\n",
    "#enter in the expirement length as seconds/10\n",
    "expTLen = {\n",
    "    'OR 5 Unblocked' : 5*6,\n",
    "    'OR 5 Blocked':5*6,\n",
    "    'OR 12 Unblocked':8*6,\n",
    "    'OR 12 Blocked':7*6,\n",
    "}\n",
    "# Manual Zone set up notice how we are missing S-14\n",
    "zoneList = {\n",
    "    'Zone 1' : ['S-01','S-04'],\n",
    "    'Zone 2' : ['S-02','S-03','S-05','S-06'],\n",
    "    'Zone 3' : ['S-07','S-08','S-09','S-10','S-11','S-12','S-13','S-14'],\n",
    "    'Zone 4' : ['S-15','S-18'],\n",
    "    'Zone 5' : ['S-19']\n",
    "}\n",
    "if not ZoneAutomation:\n",
    "    numberOfZones = len(zoneList)"
   ]
  },
  {
   "cell_type": "code",
   "execution_count": 5,
   "metadata": {},
   "outputs": [
    {
     "output_type": "execute_result",
     "data": {
      "text/plain": [
       "['./Data\\\\S-01.txt',\n",
       " './Data\\\\S-02.txt',\n",
       " './Data\\\\S-03.txt',\n",
       " './Data\\\\S-04.txt',\n",
       " './Data\\\\S-05.txt',\n",
       " './Data\\\\S-06.txt',\n",
       " './Data\\\\S-07.txt',\n",
       " './Data\\\\S-08.txt',\n",
       " './Data\\\\S-09.txt',\n",
       " './Data\\\\S-10.txt',\n",
       " './Data\\\\S-11.txt',\n",
       " './Data\\\\S-12.txt',\n",
       " './Data\\\\S-13.txt',\n",
       " './Data\\\\S-14.txt',\n",
       " './Data\\\\S-15.txt',\n",
       " './Data\\\\S-16.txt',\n",
       " './Data\\\\S-18.txt',\n",
       " './Data\\\\S-19.txt']"
      ]
     },
     "metadata": {},
     "execution_count": 5
    }
   ],
   "source": [
    "all_csv_files"
   ]
  },
  {
   "source": [
    "Changed this to markdown so it won't run twice, had to fix the timestamps on S-12\n",
    "filePath        = all_csv_files[11]\n",
    "incorrectString = '21/3/22'\n",
    "date            = '3/22/2021'\n",
    "charTimeStart   = 11\n",
    "charTimeEnd     = 21\n",
    "offset          = 0\n",
    "fixYearStamp(filePath,incorrectString,date,charTimeStart,charTimeEnd,offset)"
   ],
   "cell_type": "markdown",
   "metadata": {}
  },
  {
   "cell_type": "code",
   "execution_count": 6,
   "metadata": {},
   "outputs": [
    {
     "output_type": "stream",
     "name": "stdout",
     "text": [
      "S-01     2021-04-19 17:22:10      2021-04-19 19:58:59       mod: yes\nS-02     2021-04-19 17:03:05      2021-04-19 19:59:29       mod: yes\nS-03     2021-04-19 17:19:10      2021-04-19 19:59:09       mod: yes\nS-04     2021-04-19 17:39:10      2021-04-19 19:58:59       mod: yes\nS-05     2021-04-19 17:06:10      2021-04-19 19:58:29       mod: yes\nS-06     2021-04-19 17:11:10      2021-04-19 19:59:09       mod: yes\nS-07     2021-04-19 17:07:34      2021-04-19 19:59:18       mod: no\nS-08     2021-04-19 17:05:08      2021-04-19 19:59:11       mod: no\nS-09     2021-04-19 17:10:11      2021-04-19 19:58:58       mod: no\nS-10     2021-04-19 17:09:59      2021-04-19 19:58:36       mod: no\nS-11     2021-04-19 17:19:22      2021-04-19 19:59:09       mod: no\nS-12     2021-04-19 17:11:50      2021-04-19 19:58:57       mod: no\nS-13     2021-04-19 17:21:07      2021-04-19 19:59:14       mod: no\nS-14     2021-04-19 17:05:18      2021-04-19 19:59:15       mod: no\nS-15     2021-04-19 17:12:10      2021-04-19 20:01:55       mod: yes\nS-16     2021-04-19 17:07:36      2021-04-19 19:58:50       mod: no\nS-18     2021-04-19 17:11:07      2021-04-19 20:02:02       mod: no\nS-19     2021-04-19 17:10:16      2021-04-19 20:02:01       mod: yes\n"
     ]
    }
   ],
   "source": [
    "data = cleanUp(cutOffTime,sensorConditions,all_csv_files,columns,badTimes)"
   ]
  },
  {
   "source": [
    "### Exporting Data\n",
    "Here we can export the organized data frames as csv files"
   ],
   "cell_type": "markdown",
   "metadata": {}
  },
  {
   "cell_type": "code",
   "execution_count": 7,
   "metadata": {},
   "outputs": [],
   "source": [
    "directory = './proccessedData'\n",
    "for x in data:\n",
    "    temp=data[x]\n",
    "    if not os.path.exists(directory):\n",
    "        os.makedirs(directory)\n",
    "    location = os.path.join(directory,x+'.csv')\n",
    "    temp.to_csv(location,index=False)"
   ]
  },
  {
   "source": [
    "### Checking Data\n",
    "Here we scan through the data for irregularities in data recording."
   ],
   "cell_type": "markdown",
   "metadata": {}
  },
  {
   "cell_type": "code",
   "execution_count": 8,
   "metadata": {
    "tags": []
   },
   "outputs": [],
   "source": [
    "if DataChecking:\n",
    "    directory = './dataInfo'\n",
    "    if not os.path.exists(directory):\n",
    "        os.makedirs(directory)\n",
    "    fout = open('./dataInfo/time_Frequency_Error_Log.txt','wt')\n",
    "    errors = {}\n",
    "    errorCount = {}\n",
    "    # Enter the expected interval here\n",
    "    interval = 10\n",
    "    for x in data:\n",
    "        # errors keeps track of length of each time interval error that occurs\n",
    "        errors[x] = set(())\n",
    "        # errorCount keeps track of how many times each time interval error occured\n",
    "        errorCount[x] = {}\n",
    "        # counter keeps track of the total time interval errors per sensor\n",
    "        counter = 0\n",
    "        #shows the total\n",
    "        temp = data[x]\n",
    "        for idx,i in enumerate(temp['Date_Time']):\n",
    "            try:\n",
    "                if not ((temp['Date_Time'][idx+1] - i) == pd.Timedelta(seconds=interval)):\n",
    "                    timeErr = temp['Date_Time'][idx+1] - i\n",
    "                    if str(timeErr.seconds) in errorCount[x]:\n",
    "                        errorCount[x][str(timeErr.seconds)] +=1\n",
    "                    else:\n",
    "                        errorCount[x][str(timeErr.seconds)] = 1\n",
    "\n",
    "                    errors[x].add(timeErr)\n",
    "\n",
    "\n",
    "                    counter += 1\n",
    "            except:\n",
    "                continue\n",
    "\n",
    "        print(str(round(counter/len(temp)*100,2)),'% potential error in ', x)\n",
    "        fout.write('potential error in '+ x +'\\n' + str(round(counter/len(temp)*100,2))+'%'+'\\n')\n",
    "\n",
    "        # display the different types of errors\n",
    "        lst = [i.seconds for i in errors[x]]\n",
    "        frmt = \"{:>4}\"*len(lst)\n",
    "        print(frmt.format(*lst))\n",
    "        fout.write(\"Time Errors\" + frmt.format(*lst)+ '\\n')\n",
    "\n",
    "        # display the quantity of each type of error\n",
    "        lst = [errorCount[x][str(i.seconds)] for i in errors[x]]\n",
    "        frmt = \"{:>4}\"*len(lst)\n",
    "        print(frmt.format(*lst))\n",
    "        fout.write(\"# Observed \" + frmt.format(*lst)+ '\\n')\n",
    "\n",
    "        print()\n",
    "        fout.write('\\n')\n",
    "\n",
    "\n",
    "    fout.close()"
   ]
  },
  {
   "source": [
    "Notice there are quite a few repeating errors here in our data set. We can either choose to interpolate the data inbetween or pad it with 0s. For gaps <40s i will interpolate, but for gaps >40 i will 0 pad."
   ],
   "cell_type": "markdown",
   "metadata": {}
  },
  {
   "cell_type": "code",
   "execution_count": 9,
   "metadata": {
    "tags": []
   },
   "outputs": [
    {
     "output_type": "stream",
     "name": "stdout",
     "text": [
      "S-01   ['% of values from interpolation : 0.186', '% of values from 0-padding : 12.477', '% of values not changed : 87.337']\n",
      "S-02   ['% of values from interpolation : 0.0', '% of values from 0-padding : 1.764', '% of values not changed : 98.236']\n",
      "S-03   ['% of values from interpolation : 0.186', '% of values from 0-padding : 10.791', '% of values not changed : 89.023']\n",
      "S-04   ['% of values from interpolation : 0.372', '% of values from 0-padding : 21.974', '% of values not changed : 77.654']\n",
      "S-05   ['% of values from interpolation : 1.027', '% of values from 0-padding : 3.548', '% of values not changed : 95.425']\n",
      "S-06   ['% of values from interpolation : 0.186', '% of values from 0-padding : 6.326', '% of values not changed : 93.488']\n",
      "S-07   ['% of values from interpolation : 29.74', '% of values from 0-padding : 10.13', '% of values not changed : 60.13']\n",
      "S-08   ['% of values from interpolation : 64.312', '% of values from 0-padding : 3.439', '% of values not changed : 32.249']\n",
      "S-09   ['% of values from interpolation : 62.663', '% of values from 0-padding : 5.773', '% of values not changed : 31.564']\n",
      "S-10   ['% of values from interpolation : 62.873', '% of values from 0-padding : 5.597', '% of values not changed : 31.53']\n",
      "S-11   ['% of values from interpolation : 29.581', '% of values from 0-padding : 10.884', '% of values not changed : 59.535']\n",
      "S-12   ['% of values from interpolation : 93.296', '% of values from 0-padding : 6.704', '% of values not changed : 0.0']\n",
      "S-13   ['% of values from interpolation : 29.275', '% of values from 0-padding : 12.361', '% of values not changed : 58.364']\n",
      "S-14   ['% of values from interpolation : 58.829', '% of values from 0-padding : 11.71', '% of values not changed : 29.461']\n",
      "S-15   ['% of values from interpolation : 0.185', '% of values from 0-padding : 6.852', '% of values not changed : 92.963']\n",
      "S-16   ['% of values from interpolation : 0.186', '% of values from 0-padding : 4.283', '% of values not changed : 95.531']\n",
      "S-18   ['% of values from interpolation : 0.37', '% of values from 0-padding : 6.204', '% of values not changed : 93.426']\n",
      "S-19   ['% of values from interpolation : 0.185', '% of values from 0-padding : 5.741', '% of values not changed : 94.074']\n"
     ]
    }
   ],
   "source": [
    "\n",
    "fout = open('./dataInfo/interpolation_Effect_Log.txt','wt')\n",
    "interpDF = {}\n",
    "\n",
    "for x in data:\n",
    "    df = data[x]\n",
    "    cutoff = 40\n",
    "    freq = '10S'\n",
    "    try:\n",
    "        interpDF[x],accuracy = fillDf(df,freq,cutOffTime,endTime,cutoff)\n",
    "        print(x,' ',accuracy)\n",
    "        fout.write(x+' '+ '\\n' + accuracy[0]+ '\\n'+ accuracy[1]+ '\\n'+ accuracy[2] +'\\n\\n')\n",
    "    except IndexError:\n",
    "        print(x,'NO DATA')\n",
    "        fout.write(x+'NO DATA'+'\\n')\n",
    "fout.close()        "
   ]
  },
  {
   "source": [
    "### Export Data\n",
    "export the newly interpolated data"
   ],
   "cell_type": "markdown",
   "metadata": {}
  },
  {
   "cell_type": "code",
   "execution_count": 10,
   "metadata": {},
   "outputs": [],
   "source": [
    "directory = './interpolatedData'\n",
    "for x in interpDF:\n",
    "    temp=interpDF[x]\n",
    "    if not os.path.exists(directory):\n",
    "        os.makedirs(directory)\n",
    "    location = os.path.join(directory,x+'.csv')\n",
    "    temp.to_csv(location,index=False)"
   ]
  },
  {
   "source": [
    "### Merge the DataFrames"
   ],
   "cell_type": "markdown",
   "metadata": {}
  },
  {
   "cell_type": "code",
   "execution_count": 11,
   "metadata": {},
   "outputs": [
    {
     "output_type": "stream",
     "name": "stdout",
     "text": [
      "4 1071\n"
     ]
    }
   ],
   "source": [
    "length = []\n",
    "for x in interpDF:\n",
    "    length.append(len(interpDF[x]))\n",
    "index = min(length)\n",
    "lowIDX,lowValue = [[i,value] for i,value in enumerate(length) if value == index][0]\n",
    "print(lowIDX,lowValue)"
   ]
  },
  {
   "source": [
    "for count,key in enumerate(list(interpDF.keys())):\n",
    "    print(count+1,key,temp[count+1])"
   ],
   "cell_type": "markdown",
   "metadata": {}
  },
  {
   "cell_type": "code",
   "execution_count": 12,
   "metadata": {},
   "outputs": [
    {
     "output_type": "execute_result",
     "data": {
      "text/plain": [
       "               Date_Time  S-01  S-02  S-03  S-04  S-05  S-06  S-07  S-08  \\\n",
       "0    2021-04-19 17:00:00     0     0     0     0     0     0     0     0   \n",
       "1    2021-04-19 17:00:10     0     0     0     0     0     0     0     0   \n",
       "2    2021-04-19 17:00:20     0     0     0     0     0     0     0     0   \n",
       "3    2021-04-19 17:00:30     0     0     0     0     0     0     0     0   \n",
       "4    2021-04-19 17:00:40     0     0     0     0     0     0     0     0   \n",
       "...                  ...   ...   ...   ...   ...   ...   ...   ...   ...   \n",
       "1066 2021-04-19 19:57:40    51    96    81    69   138    84    90    18   \n",
       "1067 2021-04-19 19:57:50    72   114   129    69   108    72    63    18   \n",
       "1068 2021-04-19 19:58:00    57    81   105    69   114    21   108    57   \n",
       "1069 2021-04-19 19:58:10   153    54   114    60    84    84   108   129   \n",
       "1070 2021-04-19 19:58:20   144   138    66    42    66    90   117   129   \n",
       "\n",
       "      S-09  ...  S-11  S-12  S-13  S-14  S-15  S-16  S-18  S-19    Average  \\\n",
       "0        0  ...     0     0     0     0     0     0     0     0   0.000000   \n",
       "1        0  ...     0     0     0     0     0     0     0     0   0.000000   \n",
       "2        0  ...     0     0     0     0     0     0     0     0   0.000000   \n",
       "3        0  ...     0     0     0     0     0     0     0     0   0.000000   \n",
       "4        0  ...     0     0     0     0     0     0     0     0   0.000000   \n",
       "...    ...  ...   ...   ...   ...   ...   ...   ...   ...   ...        ...   \n",
       "1066    94  ...   198    81    63   154     9   102    33    18  81.111111   \n",
       "1067    84  ...   117   105   126   144    30    96    54    27  83.833333   \n",
       "1068    84  ...    81   129   126   144    48    84     0    39  78.222222   \n",
       "1069    79  ...    81   121   157   126    60    51     0    48  86.666667   \n",
       "1070   150  ...    64   114   150    90    51    72    63    78  93.055556   \n",
       "\n",
       "         Variance  \n",
       "0        0.000000  \n",
       "1        0.000000  \n",
       "2        0.000000  \n",
       "3        0.000000  \n",
       "4        0.000000  \n",
       "...           ...  \n",
       "1066  2221.432099  \n",
       "1067  1273.472222  \n",
       "1068  1404.506173  \n",
       "1069  1622.888889  \n",
       "1070  1302.719136  \n",
       "\n",
       "[1071 rows x 21 columns]"
      ],
      "text/html": "<div>\n<style scoped>\n    .dataframe tbody tr th:only-of-type {\n        vertical-align: middle;\n    }\n\n    .dataframe tbody tr th {\n        vertical-align: top;\n    }\n\n    .dataframe thead th {\n        text-align: right;\n    }\n</style>\n<table border=\"1\" class=\"dataframe\">\n  <thead>\n    <tr style=\"text-align: right;\">\n      <th></th>\n      <th>Date_Time</th>\n      <th>S-01</th>\n      <th>S-02</th>\n      <th>S-03</th>\n      <th>S-04</th>\n      <th>S-05</th>\n      <th>S-06</th>\n      <th>S-07</th>\n      <th>S-08</th>\n      <th>S-09</th>\n      <th>...</th>\n      <th>S-11</th>\n      <th>S-12</th>\n      <th>S-13</th>\n      <th>S-14</th>\n      <th>S-15</th>\n      <th>S-16</th>\n      <th>S-18</th>\n      <th>S-19</th>\n      <th>Average</th>\n      <th>Variance</th>\n    </tr>\n  </thead>\n  <tbody>\n    <tr>\n      <th>0</th>\n      <td>2021-04-19 17:00:00</td>\n      <td>0</td>\n      <td>0</td>\n      <td>0</td>\n      <td>0</td>\n      <td>0</td>\n      <td>0</td>\n      <td>0</td>\n      <td>0</td>\n      <td>0</td>\n      <td>...</td>\n      <td>0</td>\n      <td>0</td>\n      <td>0</td>\n      <td>0</td>\n      <td>0</td>\n      <td>0</td>\n      <td>0</td>\n      <td>0</td>\n      <td>0.000000</td>\n      <td>0.000000</td>\n    </tr>\n    <tr>\n      <th>1</th>\n      <td>2021-04-19 17:00:10</td>\n      <td>0</td>\n      <td>0</td>\n      <td>0</td>\n      <td>0</td>\n      <td>0</td>\n      <td>0</td>\n      <td>0</td>\n      <td>0</td>\n      <td>0</td>\n      <td>...</td>\n      <td>0</td>\n      <td>0</td>\n      <td>0</td>\n      <td>0</td>\n      <td>0</td>\n      <td>0</td>\n      <td>0</td>\n      <td>0</td>\n      <td>0.000000</td>\n      <td>0.000000</td>\n    </tr>\n    <tr>\n      <th>2</th>\n      <td>2021-04-19 17:00:20</td>\n      <td>0</td>\n      <td>0</td>\n      <td>0</td>\n      <td>0</td>\n      <td>0</td>\n      <td>0</td>\n      <td>0</td>\n      <td>0</td>\n      <td>0</td>\n      <td>...</td>\n      <td>0</td>\n      <td>0</td>\n      <td>0</td>\n      <td>0</td>\n      <td>0</td>\n      <td>0</td>\n      <td>0</td>\n      <td>0</td>\n      <td>0.000000</td>\n      <td>0.000000</td>\n    </tr>\n    <tr>\n      <th>3</th>\n      <td>2021-04-19 17:00:30</td>\n      <td>0</td>\n      <td>0</td>\n      <td>0</td>\n      <td>0</td>\n      <td>0</td>\n      <td>0</td>\n      <td>0</td>\n      <td>0</td>\n      <td>0</td>\n      <td>...</td>\n      <td>0</td>\n      <td>0</td>\n      <td>0</td>\n      <td>0</td>\n      <td>0</td>\n      <td>0</td>\n      <td>0</td>\n      <td>0</td>\n      <td>0.000000</td>\n      <td>0.000000</td>\n    </tr>\n    <tr>\n      <th>4</th>\n      <td>2021-04-19 17:00:40</td>\n      <td>0</td>\n      <td>0</td>\n      <td>0</td>\n      <td>0</td>\n      <td>0</td>\n      <td>0</td>\n      <td>0</td>\n      <td>0</td>\n      <td>0</td>\n      <td>...</td>\n      <td>0</td>\n      <td>0</td>\n      <td>0</td>\n      <td>0</td>\n      <td>0</td>\n      <td>0</td>\n      <td>0</td>\n      <td>0</td>\n      <td>0.000000</td>\n      <td>0.000000</td>\n    </tr>\n    <tr>\n      <th>...</th>\n      <td>...</td>\n      <td>...</td>\n      <td>...</td>\n      <td>...</td>\n      <td>...</td>\n      <td>...</td>\n      <td>...</td>\n      <td>...</td>\n      <td>...</td>\n      <td>...</td>\n      <td>...</td>\n      <td>...</td>\n      <td>...</td>\n      <td>...</td>\n      <td>...</td>\n      <td>...</td>\n      <td>...</td>\n      <td>...</td>\n      <td>...</td>\n      <td>...</td>\n      <td>...</td>\n    </tr>\n    <tr>\n      <th>1066</th>\n      <td>2021-04-19 19:57:40</td>\n      <td>51</td>\n      <td>96</td>\n      <td>81</td>\n      <td>69</td>\n      <td>138</td>\n      <td>84</td>\n      <td>90</td>\n      <td>18</td>\n      <td>94</td>\n      <td>...</td>\n      <td>198</td>\n      <td>81</td>\n      <td>63</td>\n      <td>154</td>\n      <td>9</td>\n      <td>102</td>\n      <td>33</td>\n      <td>18</td>\n      <td>81.111111</td>\n      <td>2221.432099</td>\n    </tr>\n    <tr>\n      <th>1067</th>\n      <td>2021-04-19 19:57:50</td>\n      <td>72</td>\n      <td>114</td>\n      <td>129</td>\n      <td>69</td>\n      <td>108</td>\n      <td>72</td>\n      <td>63</td>\n      <td>18</td>\n      <td>84</td>\n      <td>...</td>\n      <td>117</td>\n      <td>105</td>\n      <td>126</td>\n      <td>144</td>\n      <td>30</td>\n      <td>96</td>\n      <td>54</td>\n      <td>27</td>\n      <td>83.833333</td>\n      <td>1273.472222</td>\n    </tr>\n    <tr>\n      <th>1068</th>\n      <td>2021-04-19 19:58:00</td>\n      <td>57</td>\n      <td>81</td>\n      <td>105</td>\n      <td>69</td>\n      <td>114</td>\n      <td>21</td>\n      <td>108</td>\n      <td>57</td>\n      <td>84</td>\n      <td>...</td>\n      <td>81</td>\n      <td>129</td>\n      <td>126</td>\n      <td>144</td>\n      <td>48</td>\n      <td>84</td>\n      <td>0</td>\n      <td>39</td>\n      <td>78.222222</td>\n      <td>1404.506173</td>\n    </tr>\n    <tr>\n      <th>1069</th>\n      <td>2021-04-19 19:58:10</td>\n      <td>153</td>\n      <td>54</td>\n      <td>114</td>\n      <td>60</td>\n      <td>84</td>\n      <td>84</td>\n      <td>108</td>\n      <td>129</td>\n      <td>79</td>\n      <td>...</td>\n      <td>81</td>\n      <td>121</td>\n      <td>157</td>\n      <td>126</td>\n      <td>60</td>\n      <td>51</td>\n      <td>0</td>\n      <td>48</td>\n      <td>86.666667</td>\n      <td>1622.888889</td>\n    </tr>\n    <tr>\n      <th>1070</th>\n      <td>2021-04-19 19:58:20</td>\n      <td>144</td>\n      <td>138</td>\n      <td>66</td>\n      <td>42</td>\n      <td>66</td>\n      <td>90</td>\n      <td>117</td>\n      <td>129</td>\n      <td>150</td>\n      <td>...</td>\n      <td>64</td>\n      <td>114</td>\n      <td>150</td>\n      <td>90</td>\n      <td>51</td>\n      <td>72</td>\n      <td>63</td>\n      <td>78</td>\n      <td>93.055556</td>\n      <td>1302.719136</td>\n    </tr>\n  </tbody>\n</table>\n<p>1071 rows × 21 columns</p>\n</div>"
     },
     "metadata": {},
     "execution_count": 12
    }
   ],
   "source": [
    "columns = list(interpDF.keys())\n",
    "mergedData = pd.DataFrame({'Date_Time':interpDF[columns[lowIDX]]['Date_Time']})\n",
    "for idx,column in enumerate(columns):\n",
    "    mergedData[column] = interpDF[column][particle]\n",
    "Average = np.mean(mergedData,axis=1)\n",
    "Variance = np.var(mergedData,axis=1)\n",
    "mergedData['Average'] = Average\n",
    "mergedData['Variance'] = Variance\n",
    "mergedData"
   ]
  },
  {
   "source": [
    "### Increase Resolution on mergedData"
   ],
   "cell_type": "markdown",
   "metadata": {}
  },
  {
   "cell_type": "code",
   "execution_count": 13,
   "metadata": {},
   "outputs": [],
   "source": [
    "\n",
    "for i in mergedData:\n",
    "    tempFrame = mergedData.values\n",
    "    tempList = []\n",
    "    for idx,x in enumerate(tempFrame):\n",
    "        try:\n",
    "            increment = (tempFrame[idx+1] - x)/10\n",
    "            for count in range(10):\n",
    "                tempList.append(x+increment*count)\n",
    "        except IndexError:\n",
    "            tempList.append(x)\n",
    "            continue\n",
    "    hiResMergedDF = pd.DataFrame(tempList, columns = mergedData.keys())"
   ]
  },
  {
   "source": [
    "### Export Merged Frames"
   ],
   "cell_type": "markdown",
   "metadata": {}
  },
  {
   "cell_type": "code",
   "execution_count": 14,
   "metadata": {},
   "outputs": [],
   "source": [
    "directory = './mergedData/'\n",
    "if not os.path.exists(directory):\n",
    "\n",
    "    os.makedirs(directory)\n",
    "\n",
    "location = os.path.join(directory+'mergedFrame.csv')\n",
    "hiResMergedDF.to_csv(location,index=False)"
   ]
  },
  {
   "source": [
    "### Create csv files for each animation\n",
    "We have 3 expirements in each that we want to average across the range"
   ],
   "cell_type": "markdown",
   "metadata": {}
  },
  {
   "cell_type": "code",
   "execution_count": 15,
   "metadata": {},
   "outputs": [],
   "source": [
    "# mergedData = pd.read_csv('./mergedData/mergedFrame.csv',parse_dates=[0])"
   ]
  },
  {
   "cell_type": "code",
   "execution_count": 16,
   "metadata": {
    "tags": []
   },
   "outputs": [],
   "source": [
    "time = mergedData['Date_Time']\n",
    "expIndexes = {}\n",
    "for i in expTRange:\n",
    "    expIndexes[i] = []\n",
    "    for x in expTRange[i]:\n",
    "        for start,n in enumerate(time):\n",
    "           if n >= x:\n",
    "               expIndexes[i].append(start)\n",
    "               break"
   ]
  },
  {
   "source": [
    "## Determining Zones\n",
    "Here we first create 'averagedFrame's. These are dictionaries that at each 'label' (which corresponds to the name of an expirement) we have a pandas dataframe containing the results of all of the trails in an expirement summed, and then divided by the total number of trails.\n",
    "Anytime you are adjusting the Zones, everything below here must be run. The values of many of these DataFrames are mutated"
   ],
   "cell_type": "markdown",
   "metadata": {}
  },
  {
   "cell_type": "code",
   "execution_count": 17,
   "metadata": {},
   "outputs": [
    {
     "output_type": "execute_result",
     "data": {
      "text/plain": [
       "{'OR 5 Unblocked': [141, 194, 252, 312, 348, 512],\n",
       " 'OR 5 Blocked': [413, 461, 512],\n",
       " 'OR 12 Unblocked': [677, 741, 801],\n",
       " 'OR 12 Blocked': [873, 929, 951]}"
      ]
     },
     "metadata": {},
     "execution_count": 17
    }
   ],
   "source": [
    "expIndexes"
   ]
  },
  {
   "cell_type": "code",
   "execution_count": 18,
   "metadata": {},
   "outputs": [],
   "source": [
    "# preCursorFactor is defined at the start\n",
    "averagedFrame = {}\n",
    "expirementFrame = {}\n",
    "\n",
    "for label in expIndexes:\n",
    "    runSumFrames = expIndexes[label][0]-expIndexes[label][0]\n",
    "    for idx,time in enumerate(expIndexes[label]):\n",
    "        start = expIndexes[label][idx] - preCursorFactor\n",
    "        end = expIndexes[label][idx] + expTLen[label]\n",
    "        expirementFrame[label+' Exp '+str(idx+1)] = mergedData.iloc[ start : end , 1: ].reset_index(drop = True)\n",
    "        runSumFrames += expirementFrame[label+' Exp '+str(idx+1)]\n",
    "        \n",
    "    averagedFrame[label] = runSumFrames/(idx+1)"
   ]
  },
  {
   "source": [
    "Calculating the correct Zones for each expirement"
   ],
   "cell_type": "markdown",
   "metadata": {}
  },
  {
   "cell_type": "code",
   "execution_count": 19,
   "metadata": {},
   "outputs": [],
   "source": [
    "if ZoneAutomation:\n",
    "    # numberOfZones is defined at the start\n",
    "    ZoneAssignments = {}\n",
    "    for frame in averagedFrame:\n",
    "        # at this point averagedFrame should just be the averaged sum of the expirementFrame trails. Last two columns are overall average and varaince so they should be ignored.\n",
    "        avgFrm = averagedFrame[frame]\n",
    "        # outdoorSensors must have its spelling exactly match\n",
    "        columns = list(set(avgFrm.keys()[:-2])- set(outdoorSensors))\n",
    "        columns.sort()\n",
    "\n",
    "        X = {}\n",
    "        for column in columns:\n",
    "            value,index = max([(value,index) for index,value in enumerate(avgFrm[column])]) \n",
    "            X[column] = np.array([np.log(value),index])\n",
    "        X = [X[i] for i in X]\n",
    "        kmeans = KMeans(n_clusters=numberOfZones,random_state=0).fit(X)\n",
    "        ZoneAssignments[frame] = kmeans.labels_\n",
    "    z = numberOfZones\n",
    "    ZDf = pd.DataFrame(ZoneAssignments)\n",
    "    ZDf = ZDf.append(pd.DataFrame([[z]*len(outdoorSensors)]*len(expIndexes),columns = ZoneAssignments.keys()),ignore_index=True)\n",
    "    ZoneAssignments = ZDf"
   ]
  },
  {
   "cell_type": "code",
   "execution_count": 20,
   "metadata": {},
   "outputs": [],
   "source": [
    "if not ZoneAutomation:\n",
    "    ZoneAssignments = {}\n",
    "    for frame in averagedFrame:\n",
    "        # at this point averagedFrame should just be the averaged sum of the expirementFrame trails. Last two columns are overall average and varaince so they should be ignored.\n",
    "        avgFrm = averagedFrame[frame]\n",
    "        # outdoorSensors must have its spelling exactly match\n",
    "        columns = list(set(avgFrm.keys()[:-2]))\n",
    "        columns.sort()\n",
    "        ZoneAssignments[frame] = [0]*len(columns)\n",
    "        for value,zone in enumerate(zoneList):\n",
    "            for sensor in zoneList[zone]:\n",
    "                ZoneAssignments[frame][columns.index(sensor)] = value\n",
    "    ZDf = pd.DataFrame(ZoneAssignments)"
   ]
  },
  {
   "cell_type": "code",
   "execution_count": 29,
   "metadata": {},
   "outputs": [
    {
     "output_type": "execute_result",
     "data": {
      "text/plain": [
       "0"
      ]
     },
     "metadata": {},
     "execution_count": 29
    }
   ],
   "source": []
  },
  {
   "cell_type": "code",
   "execution_count": 21,
   "metadata": {},
   "outputs": [
    {
     "output_type": "execute_result",
     "data": {
      "text/plain": [
       "['S-01',\n",
       " 'S-02',\n",
       " 'S-03',\n",
       " 'S-04',\n",
       " 'S-05',\n",
       " 'S-06',\n",
       " 'S-07',\n",
       " 'S-08',\n",
       " 'S-09',\n",
       " 'S-10',\n",
       " 'S-11',\n",
       " 'S-12',\n",
       " 'S-13',\n",
       " 'S-14',\n",
       " 'S-15',\n",
       " 'S-16',\n",
       " 'S-18',\n",
       " 'S-19']"
      ]
     },
     "metadata": {},
     "execution_count": 21
    }
   ],
   "source": [
    "columns"
   ]
  },
  {
   "cell_type": "code",
   "execution_count": 22,
   "metadata": {},
   "outputs": [
    {
     "output_type": "execute_result",
     "data": {
      "text/plain": [
       "    OR 5 Unblocked  OR 5 Blocked  OR 12 Unblocked  OR 12 Blocked\n",
       "0                0             0                0              0\n",
       "1                1             1                1              1\n",
       "2                1             1                1              1\n",
       "3                0             0                0              0\n",
       "4                1             1                1              1\n",
       "5                1             1                1              1\n",
       "6                2             2                2              2\n",
       "7                2             2                2              2\n",
       "8                2             2                2              2\n",
       "9                2             2                2              2\n",
       "10               2             2                2              2\n",
       "11               2             2                2              2\n",
       "12               2             2                2              2\n",
       "13               2             2                2              2\n",
       "14               3             3                3              3\n",
       "15               0             0                0              0\n",
       "16               3             3                3              3\n",
       "17               4             4                4              4"
      ],
      "text/html": "<div>\n<style scoped>\n    .dataframe tbody tr th:only-of-type {\n        vertical-align: middle;\n    }\n\n    .dataframe tbody tr th {\n        vertical-align: top;\n    }\n\n    .dataframe thead th {\n        text-align: right;\n    }\n</style>\n<table border=\"1\" class=\"dataframe\">\n  <thead>\n    <tr style=\"text-align: right;\">\n      <th></th>\n      <th>OR 5 Unblocked</th>\n      <th>OR 5 Blocked</th>\n      <th>OR 12 Unblocked</th>\n      <th>OR 12 Blocked</th>\n    </tr>\n  </thead>\n  <tbody>\n    <tr>\n      <th>0</th>\n      <td>0</td>\n      <td>0</td>\n      <td>0</td>\n      <td>0</td>\n    </tr>\n    <tr>\n      <th>1</th>\n      <td>1</td>\n      <td>1</td>\n      <td>1</td>\n      <td>1</td>\n    </tr>\n    <tr>\n      <th>2</th>\n      <td>1</td>\n      <td>1</td>\n      <td>1</td>\n      <td>1</td>\n    </tr>\n    <tr>\n      <th>3</th>\n      <td>0</td>\n      <td>0</td>\n      <td>0</td>\n      <td>0</td>\n    </tr>\n    <tr>\n      <th>4</th>\n      <td>1</td>\n      <td>1</td>\n      <td>1</td>\n      <td>1</td>\n    </tr>\n    <tr>\n      <th>5</th>\n      <td>1</td>\n      <td>1</td>\n      <td>1</td>\n      <td>1</td>\n    </tr>\n    <tr>\n      <th>6</th>\n      <td>2</td>\n      <td>2</td>\n      <td>2</td>\n      <td>2</td>\n    </tr>\n    <tr>\n      <th>7</th>\n      <td>2</td>\n      <td>2</td>\n      <td>2</td>\n      <td>2</td>\n    </tr>\n    <tr>\n      <th>8</th>\n      <td>2</td>\n      <td>2</td>\n      <td>2</td>\n      <td>2</td>\n    </tr>\n    <tr>\n      <th>9</th>\n      <td>2</td>\n      <td>2</td>\n      <td>2</td>\n      <td>2</td>\n    </tr>\n    <tr>\n      <th>10</th>\n      <td>2</td>\n      <td>2</td>\n      <td>2</td>\n      <td>2</td>\n    </tr>\n    <tr>\n      <th>11</th>\n      <td>2</td>\n      <td>2</td>\n      <td>2</td>\n      <td>2</td>\n    </tr>\n    <tr>\n      <th>12</th>\n      <td>2</td>\n      <td>2</td>\n      <td>2</td>\n      <td>2</td>\n    </tr>\n    <tr>\n      <th>13</th>\n      <td>2</td>\n      <td>2</td>\n      <td>2</td>\n      <td>2</td>\n    </tr>\n    <tr>\n      <th>14</th>\n      <td>3</td>\n      <td>3</td>\n      <td>3</td>\n      <td>3</td>\n    </tr>\n    <tr>\n      <th>15</th>\n      <td>0</td>\n      <td>0</td>\n      <td>0</td>\n      <td>0</td>\n    </tr>\n    <tr>\n      <th>16</th>\n      <td>3</td>\n      <td>3</td>\n      <td>3</td>\n      <td>3</td>\n    </tr>\n    <tr>\n      <th>17</th>\n      <td>4</td>\n      <td>4</td>\n      <td>4</td>\n      <td>4</td>\n    </tr>\n  </tbody>\n</table>\n</div>"
     },
     "metadata": {},
     "execution_count": 22
    }
   ],
   "source": [
    "ZDf"
   ]
  },
  {
   "cell_type": "code",
   "execution_count": 23,
   "metadata": {},
   "outputs": [
    {
     "output_type": "execute_result",
     "data": {
      "text/plain": [
       "{'Zone 1': ['S-01', 'S-04'],\n",
       " 'Zone 2': ['S-02', 'S-03', 'S-05', 'S-06'],\n",
       " 'Zone 3': ['S-07', 'S-08', 'S-09', 'S-10', 'S-11', 'S-12', 'S-13', 'S-14'],\n",
       " 'Zone 4': ['S-15', 'S-18'],\n",
       " 'Zone 5': ['S-19']}"
      ]
     },
     "metadata": {},
     "execution_count": 23
    }
   ],
   "source": [
    "zoneList"
   ]
  },
  {
   "cell_type": "code",
   "execution_count": 24,
   "metadata": {},
   "outputs": [
    {
     "output_type": "execute_result",
     "data": {
      "text/plain": [
       "            S-01    S-02   S-03   S-04   S-05   S-06        S-07        S-08  \\\n",
       "0     119.000000   112.0   78.0   59.0   77.0   79.0   75.000000   56.333333   \n",
       "1      86.000000   107.0   57.0   50.0   73.0   98.0   77.666667   97.000000   \n",
       "2      83.000000   113.0  103.0   94.0   52.0   82.0   84.000000   94.000000   \n",
       "3      41.000000   112.0  144.0  104.0   64.0   94.0   96.000000   83.666667   \n",
       "4      80.000000    76.0  119.0   85.0   76.0   81.0   87.000000   86.000000   \n",
       "5   10289.000000   145.0  125.0   66.0   64.0   74.0   82.333333   90.000000   \n",
       "6   11849.666667  7949.0   96.0   64.0   61.0  112.0   78.000000   81.333333   \n",
       "7   20848.666667  1735.0  270.0   75.0   48.0   97.0   92.666667   72.000000   \n",
       "8   15862.666667  3302.0  138.0   66.0   58.0   67.0  120.000000   86.000000   \n",
       "9   15946.666667  1568.0  126.0   80.0   53.0   96.0  102.000000  107.000000   \n",
       "10  10698.000000  3318.0  130.0   80.0   39.0   87.0   84.000000   89.000000   \n",
       "11   1461.000000  1158.0  145.0   55.0   48.0   51.0   90.000000   87.000000   \n",
       "12    373.000000   208.0  117.0   58.0   33.0   43.0   96.000000   78.666667   \n",
       "13    179.000000   116.0  732.0  137.0   33.0   51.0   78.000000   80.333333   \n",
       "14    144.000000   102.0  183.0  208.0   64.0   73.0   75.000000   86.000000   \n",
       "15    171.000000   122.0  273.0  231.0   91.0   53.0   84.000000   81.333333   \n",
       "16    146.000000   167.0  271.0  249.0   65.0   77.0   81.000000   63.333333   \n",
       "17    181.000000   166.0  210.0  261.0   71.0   89.0   97.333333   70.000000   \n",
       "18    165.000000   103.0  244.0  212.0   91.0  122.0   93.000000   72.333333   \n",
       "19    132.000000    82.0  195.0  155.0   95.0  133.0  117.333333   57.000000   \n",
       "20    127.000000   121.0  165.0  154.0   84.0  139.0  105.000000   45.000000   \n",
       "21    118.000000   114.0  184.0  121.0   83.0  155.0   75.000000   67.000000   \n",
       "22    109.000000   108.0  166.0   94.0  102.0  103.0   75.000000   98.000000   \n",
       "23    103.000000   119.0  123.0  106.0  139.0   63.0  128.333333  114.000000   \n",
       "24    104.000000   127.0  113.0  117.0   96.0   59.0  133.000000  117.333333   \n",
       "25     81.000000   122.0  163.0  124.0   90.0   72.0   95.000000  100.333333   \n",
       "26    113.000000    79.0  152.0   72.0  113.0   72.0   78.000000  106.000000   \n",
       "27     97.000000   126.0  113.0   72.0   79.0   61.0  102.000000   99.333333   \n",
       "28     96.000000   168.0  102.0   95.0   40.0   82.0  105.000000   78.333333   \n",
       "29     86.000000   146.0  103.0   91.0   53.0   82.0  131.333333   70.000000   \n",
       "30     77.000000   117.0   92.0  133.0  114.0   75.0  145.000000   79.666667   \n",
       "31     52.000000    60.0   92.0  109.0  102.0   72.0  115.666667   85.000000   \n",
       "32     68.000000    64.0   97.0   72.0   57.0   67.0   63.000000   60.000000   \n",
       "33     85.000000    85.0   82.0   59.0   72.0   82.0   72.000000   53.000000   \n",
       "34    117.000000    66.0   73.0   79.0   95.0   44.0   93.000000   74.333333   \n",
       "35    116.000000    77.0   94.0   60.0  103.0   23.0  135.000000  100.000000   \n",
       "36     81.000000    68.0  140.0   81.0   86.0   70.0  129.000000   98.666667   \n",
       "37     85.000000    90.0  116.0   92.0  134.0   66.0  109.333333   76.000000   \n",
       "38    120.000000    86.0  100.0   80.0  130.0   40.0   90.000000   69.000000   \n",
       "39     97.000000   105.0   83.0   85.0  131.0   47.0  140.000000   67.333333   \n",
       "40     78.000000    72.0  107.0   69.0  117.0   94.0  122.000000   78.333333   \n",
       "41    112.000000    47.0  110.0   74.0  102.0  121.0   70.333333   77.000000   \n",
       "42     90.000000    73.0   99.0   69.0   46.0   97.0   60.000000   76.000000   \n",
       "43     81.000000   104.0  100.0   66.0   87.0   70.0   86.666667   80.000000   \n",
       "44     89.000000   106.0   83.0   78.0   87.0   47.0   90.000000   99.000000   \n",
       "45     84.000000    94.0   92.0  117.0  124.0   39.0   93.000000   88.666667   \n",
       "46     88.000000   128.0   58.0   92.0  105.0   61.0   93.000000   80.333333   \n",
       "47     79.000000    84.0   63.0   61.0   78.0   59.0   75.000000   55.000000   \n",
       "\n",
       "          S-09        S-10        S-11        S-12        S-13         S-14  \\\n",
       "0   193.000000   81.666667   89.000000  235.666667  197.000000   476.000000   \n",
       "1   205.333333   63.333333  146.000000  187.000000  191.000000   416.333333   \n",
       "2   173.333333   85.000000  111.000000  164.333333  242.000000   214.000000   \n",
       "3   201.000000   94.666667  121.333333  142.000000  227.000000   239.000000   \n",
       "4   204.666667   88.000000  124.000000  149.333333  188.333333   305.666667   \n",
       "5   176.333333   63.000000  100.000000  157.000000  125.000000   291.000000   \n",
       "6   180.000000   63.666667   57.000000  129.333333   79.000000   277.000000   \n",
       "7   183.666667   80.000000   61.000000  102.000000   85.000000   290.000000   \n",
       "8   193.000000  101.000000   69.000000   88.000000  169.000000   208.000000   \n",
       "9   174.000000  107.333333   72.333333   75.000000  265.000000   226.000000   \n",
       "10  154.000000  101.333333   77.000000  124.333333  266.000000   247.000000   \n",
       "11  110.333333   90.000000   83.000000  174.000000  450.000000   286.333333   \n",
       "12  131.000000   73.333333   88.000000  135.000000  191.000000   535.000000   \n",
       "13  146.333333   41.333333   65.000000   96.000000  165.000000   567.000000   \n",
       "14  173.000000   54.000000   59.000000   92.000000  192.000000  1555.000000   \n",
       "15  176.000000   67.333333   57.333333   89.000000  434.000000  1286.000000   \n",
       "16  167.666667   56.000000   67.000000  110.666667  494.666667  1121.333333   \n",
       "17  156.333333   61.000000  121.666667  133.000000  395.000000   726.000000   \n",
       "18  211.000000   66.333333  128.000000  120.000000  500.000000   673.000000   \n",
       "19  207.000000   82.333333  131.000000  108.000000  525.000000   699.333333   \n",
       "20  207.333333   84.000000  108.000000  177.666667  381.333333   713.000000   \n",
       "21  177.000000   99.666667  116.333333  248.000000  333.000000   726.000000   \n",
       "22  185.333333  102.333333  127.000000  228.333333  281.000000   765.333333   \n",
       "23  171.333333   94.000000  172.000000  209.000000  238.000000   599.333333   \n",
       "24  166.000000   73.666667   92.000000  182.000000  319.000000   376.000000   \n",
       "25  167.333333   92.333333  119.000000  155.000000  274.000000   373.333333   \n",
       "26  152.333333   84.000000  172.000000  206.333333  197.333333   382.333333   \n",
       "27  124.000000   78.333333  156.000000  258.000000  134.000000   386.000000   \n",
       "28  124.666667   71.333333  138.000000  192.666667  114.000000   373.333333   \n",
       "29  113.333333   76.000000  126.333333  128.000000  149.000000   340.000000   \n",
       "30  120.000000   83.000000  101.000000  154.666667  179.000000   268.000000   \n",
       "31  131.000000  113.000000  101.000000  182.000000  179.000000   253.666667   \n",
       "32  160.000000  122.000000   90.000000  197.333333  151.000000   231.000000   \n",
       "33  147.000000  101.666667   96.000000  213.000000  118.000000   208.000000   \n",
       "34  110.666667   42.000000  114.000000  172.666667  112.333333   197.333333   \n",
       "35   98.000000   17.000000  114.333333  133.000000   70.000000   157.000000   \n",
       "36  106.000000   24.666667  107.000000  108.666667   79.000000   100.000000   \n",
       "37  116.000000   58.333333   86.000000   85.000000  106.000000   101.333333   \n",
       "38  147.333333   52.000000   92.000000  102.000000   83.333333   125.000000   \n",
       "39  139.000000   40.333333   99.333333  119.000000   85.000000   111.000000   \n",
       "40  129.666667   60.333333   90.000000  134.000000   79.333333   109.333333   \n",
       "41  120.000000   84.000000   89.333333  150.000000  119.000000    71.000000   \n",
       "42   94.000000   81.666667   72.000000  150.000000  100.000000   100.000000   \n",
       "43   95.000000   72.333333  116.000000  151.000000  106.000000   106.000000   \n",
       "44   85.333333   88.000000   60.000000  134.000000   98.000000    98.333333   \n",
       "45   84.000000   88.333333   56.000000  117.000000   93.000000    69.000000   \n",
       "46   87.333333   64.333333   60.000000  103.666667   84.333333    73.333333   \n",
       "47  120.333333   55.000000   88.000000   91.000000   66.000000   107.333333   \n",
       "\n",
       "     S-15  S-16    S-18  S-19      Average      Variance  \n",
       "0    52.0  71.0    95.0  51.0   122.037037  3.263455e+04  \n",
       "1    80.0  66.0    87.0  50.0   118.759259  2.317846e+04  \n",
       "2   128.0  81.0    60.0  39.0   111.259259  8.057447e+03  \n",
       "3    64.0  85.0    19.0  43.0   109.703704  8.799648e+03  \n",
       "4    27.0  60.0   167.0  41.0   113.611111  1.150447e+04  \n",
       "5    23.0  70.0   102.0  53.0   671.981481  8.200636e+06  \n",
       "6    24.0  63.0    95.0  56.0  1184.166667  2.207053e+07  \n",
       "7    73.0  38.0    49.0  38.0  1346.555556  3.430285e+07  \n",
       "8   395.0  29.0    37.0  52.0  1168.925926  3.843840e+07  \n",
       "9   641.0  55.0   335.0  42.0  1115.074074  2.066686e+07  \n",
       "10  304.0  63.0  1263.0   9.0   951.870370  1.166981e+07  \n",
       "11  131.0  39.0  1316.0  29.0   322.425926  3.802476e+05  \n",
       "12  109.0  18.0   933.0  45.0   181.388889  7.714177e+04  \n",
       "13   89.0  54.0  1200.0  48.0   215.444444  1.792668e+05  \n",
       "14  116.0  79.0   655.0  25.0   218.611111  1.898130e+05  \n",
       "15  711.0  64.0   731.0  59.0   265.611111  2.083205e+05  \n",
       "16  393.0  36.0   586.0  50.0   233.425926  1.404547e+05  \n",
       "17  120.0  43.0   348.0  33.0   182.351852  5.290734e+04  \n",
       "18   55.0  47.0   167.0  39.0   172.703704  4.536615e+04  \n",
       "19   41.0  50.0   233.0  65.0   172.666667  4.770540e+04  \n",
       "20   59.0  52.0    87.0  49.0   158.796296  4.000711e+04  \n",
       "21  106.0  56.0   154.0  44.0   165.388889  4.216989e+04  \n",
       "22   48.0  51.0    54.0  48.0   152.518519  4.253573e+04  \n",
       "23   18.0  59.0    68.0  48.0   142.888889  2.805280e+04  \n",
       "24   89.0  97.0    57.0  38.0   130.888889  1.308725e+04  \n",
       "25   45.0  83.0    33.0  28.0   123.185185  1.150180e+04  \n",
       "26   33.0  33.0   166.0  48.0   125.518519  1.265032e+04  \n",
       "27   35.0  56.0    96.0  68.0   118.925926  1.089248e+04  \n",
       "28   30.0  83.0   106.0  49.0   113.796296  1.094626e+04  \n",
       "29   49.0  77.0    64.0  10.0   105.277778  9.875421e+03  \n",
       "30   25.0  71.0    26.0  19.0   104.407407  6.912241e+03  \n",
       "31   19.0  65.0     9.0  32.0    98.462963  7.512964e+03  \n",
       "32   44.0  62.0    20.0  33.0    92.129630  6.530493e+03  \n",
       "33   37.0  64.0    32.0  36.0    91.259259  5.149140e+03  \n",
       "34   12.0  64.0    32.0  61.0    86.629630  4.647031e+03  \n",
       "35    6.0  83.0    36.0  81.0    83.518519  2.894755e+03  \n",
       "36   19.0  76.0    38.0  59.0    81.722222  2.029279e+03  \n",
       "37   82.0  74.0    55.0  81.0    89.611111  1.804655e+03  \n",
       "38   46.0  55.0    60.0  66.0    85.759259  2.267888e+03  \n",
       "39   45.0  47.0    64.0  56.0    86.722222  3.355057e+03  \n",
       "40   28.0  57.0    58.0  58.0    85.611111  1.900676e+03  \n",
       "41   35.0  64.0    38.0  35.0    84.370370  1.996813e+03  \n",
       "42   50.0  64.0    39.0  18.0    76.592593  1.721056e+03  \n",
       "43   44.0  65.0    37.0  21.0    82.666667  1.868883e+03  \n",
       "44   47.0  66.0    27.0   6.0    77.148148  1.726292e+03  \n",
       "45   29.0  59.0    33.0  24.0    76.888889  1.864109e+03  \n",
       "46   19.0  45.0    60.0  27.0    73.851852  1.484981e+03  \n",
       "47   20.0  55.0    29.0  18.0    66.870370  1.320764e+03  "
      ],
      "text/html": "<div>\n<style scoped>\n    .dataframe tbody tr th:only-of-type {\n        vertical-align: middle;\n    }\n\n    .dataframe tbody tr th {\n        vertical-align: top;\n    }\n\n    .dataframe thead th {\n        text-align: right;\n    }\n</style>\n<table border=\"1\" class=\"dataframe\">\n  <thead>\n    <tr style=\"text-align: right;\">\n      <th></th>\n      <th>S-01</th>\n      <th>S-02</th>\n      <th>S-03</th>\n      <th>S-04</th>\n      <th>S-05</th>\n      <th>S-06</th>\n      <th>S-07</th>\n      <th>S-08</th>\n      <th>S-09</th>\n      <th>S-10</th>\n      <th>S-11</th>\n      <th>S-12</th>\n      <th>S-13</th>\n      <th>S-14</th>\n      <th>S-15</th>\n      <th>S-16</th>\n      <th>S-18</th>\n      <th>S-19</th>\n      <th>Average</th>\n      <th>Variance</th>\n    </tr>\n  </thead>\n  <tbody>\n    <tr>\n      <th>0</th>\n      <td>119.000000</td>\n      <td>112.0</td>\n      <td>78.0</td>\n      <td>59.0</td>\n      <td>77.0</td>\n      <td>79.0</td>\n      <td>75.000000</td>\n      <td>56.333333</td>\n      <td>193.000000</td>\n      <td>81.666667</td>\n      <td>89.000000</td>\n      <td>235.666667</td>\n      <td>197.000000</td>\n      <td>476.000000</td>\n      <td>52.0</td>\n      <td>71.0</td>\n      <td>95.0</td>\n      <td>51.0</td>\n      <td>122.037037</td>\n      <td>3.263455e+04</td>\n    </tr>\n    <tr>\n      <th>1</th>\n      <td>86.000000</td>\n      <td>107.0</td>\n      <td>57.0</td>\n      <td>50.0</td>\n      <td>73.0</td>\n      <td>98.0</td>\n      <td>77.666667</td>\n      <td>97.000000</td>\n      <td>205.333333</td>\n      <td>63.333333</td>\n      <td>146.000000</td>\n      <td>187.000000</td>\n      <td>191.000000</td>\n      <td>416.333333</td>\n      <td>80.0</td>\n      <td>66.0</td>\n      <td>87.0</td>\n      <td>50.0</td>\n      <td>118.759259</td>\n      <td>2.317846e+04</td>\n    </tr>\n    <tr>\n      <th>2</th>\n      <td>83.000000</td>\n      <td>113.0</td>\n      <td>103.0</td>\n      <td>94.0</td>\n      <td>52.0</td>\n      <td>82.0</td>\n      <td>84.000000</td>\n      <td>94.000000</td>\n      <td>173.333333</td>\n      <td>85.000000</td>\n      <td>111.000000</td>\n      <td>164.333333</td>\n      <td>242.000000</td>\n      <td>214.000000</td>\n      <td>128.0</td>\n      <td>81.0</td>\n      <td>60.0</td>\n      <td>39.0</td>\n      <td>111.259259</td>\n      <td>8.057447e+03</td>\n    </tr>\n    <tr>\n      <th>3</th>\n      <td>41.000000</td>\n      <td>112.0</td>\n      <td>144.0</td>\n      <td>104.0</td>\n      <td>64.0</td>\n      <td>94.0</td>\n      <td>96.000000</td>\n      <td>83.666667</td>\n      <td>201.000000</td>\n      <td>94.666667</td>\n      <td>121.333333</td>\n      <td>142.000000</td>\n      <td>227.000000</td>\n      <td>239.000000</td>\n      <td>64.0</td>\n      <td>85.0</td>\n      <td>19.0</td>\n      <td>43.0</td>\n      <td>109.703704</td>\n      <td>8.799648e+03</td>\n    </tr>\n    <tr>\n      <th>4</th>\n      <td>80.000000</td>\n      <td>76.0</td>\n      <td>119.0</td>\n      <td>85.0</td>\n      <td>76.0</td>\n      <td>81.0</td>\n      <td>87.000000</td>\n      <td>86.000000</td>\n      <td>204.666667</td>\n      <td>88.000000</td>\n      <td>124.000000</td>\n      <td>149.333333</td>\n      <td>188.333333</td>\n      <td>305.666667</td>\n      <td>27.0</td>\n      <td>60.0</td>\n      <td>167.0</td>\n      <td>41.0</td>\n      <td>113.611111</td>\n      <td>1.150447e+04</td>\n    </tr>\n    <tr>\n      <th>5</th>\n      <td>10289.000000</td>\n      <td>145.0</td>\n      <td>125.0</td>\n      <td>66.0</td>\n      <td>64.0</td>\n      <td>74.0</td>\n      <td>82.333333</td>\n      <td>90.000000</td>\n      <td>176.333333</td>\n      <td>63.000000</td>\n      <td>100.000000</td>\n      <td>157.000000</td>\n      <td>125.000000</td>\n      <td>291.000000</td>\n      <td>23.0</td>\n      <td>70.0</td>\n      <td>102.0</td>\n      <td>53.0</td>\n      <td>671.981481</td>\n      <td>8.200636e+06</td>\n    </tr>\n    <tr>\n      <th>6</th>\n      <td>11849.666667</td>\n      <td>7949.0</td>\n      <td>96.0</td>\n      <td>64.0</td>\n      <td>61.0</td>\n      <td>112.0</td>\n      <td>78.000000</td>\n      <td>81.333333</td>\n      <td>180.000000</td>\n      <td>63.666667</td>\n      <td>57.000000</td>\n      <td>129.333333</td>\n      <td>79.000000</td>\n      <td>277.000000</td>\n      <td>24.0</td>\n      <td>63.0</td>\n      <td>95.0</td>\n      <td>56.0</td>\n      <td>1184.166667</td>\n      <td>2.207053e+07</td>\n    </tr>\n    <tr>\n      <th>7</th>\n      <td>20848.666667</td>\n      <td>1735.0</td>\n      <td>270.0</td>\n      <td>75.0</td>\n      <td>48.0</td>\n      <td>97.0</td>\n      <td>92.666667</td>\n      <td>72.000000</td>\n      <td>183.666667</td>\n      <td>80.000000</td>\n      <td>61.000000</td>\n      <td>102.000000</td>\n      <td>85.000000</td>\n      <td>290.000000</td>\n      <td>73.0</td>\n      <td>38.0</td>\n      <td>49.0</td>\n      <td>38.0</td>\n      <td>1346.555556</td>\n      <td>3.430285e+07</td>\n    </tr>\n    <tr>\n      <th>8</th>\n      <td>15862.666667</td>\n      <td>3302.0</td>\n      <td>138.0</td>\n      <td>66.0</td>\n      <td>58.0</td>\n      <td>67.0</td>\n      <td>120.000000</td>\n      <td>86.000000</td>\n      <td>193.000000</td>\n      <td>101.000000</td>\n      <td>69.000000</td>\n      <td>88.000000</td>\n      <td>169.000000</td>\n      <td>208.000000</td>\n      <td>395.0</td>\n      <td>29.0</td>\n      <td>37.0</td>\n      <td>52.0</td>\n      <td>1168.925926</td>\n      <td>3.843840e+07</td>\n    </tr>\n    <tr>\n      <th>9</th>\n      <td>15946.666667</td>\n      <td>1568.0</td>\n      <td>126.0</td>\n      <td>80.0</td>\n      <td>53.0</td>\n      <td>96.0</td>\n      <td>102.000000</td>\n      <td>107.000000</td>\n      <td>174.000000</td>\n      <td>107.333333</td>\n      <td>72.333333</td>\n      <td>75.000000</td>\n      <td>265.000000</td>\n      <td>226.000000</td>\n      <td>641.0</td>\n      <td>55.0</td>\n      <td>335.0</td>\n      <td>42.0</td>\n      <td>1115.074074</td>\n      <td>2.066686e+07</td>\n    </tr>\n    <tr>\n      <th>10</th>\n      <td>10698.000000</td>\n      <td>3318.0</td>\n      <td>130.0</td>\n      <td>80.0</td>\n      <td>39.0</td>\n      <td>87.0</td>\n      <td>84.000000</td>\n      <td>89.000000</td>\n      <td>154.000000</td>\n      <td>101.333333</td>\n      <td>77.000000</td>\n      <td>124.333333</td>\n      <td>266.000000</td>\n      <td>247.000000</td>\n      <td>304.0</td>\n      <td>63.0</td>\n      <td>1263.0</td>\n      <td>9.0</td>\n      <td>951.870370</td>\n      <td>1.166981e+07</td>\n    </tr>\n    <tr>\n      <th>11</th>\n      <td>1461.000000</td>\n      <td>1158.0</td>\n      <td>145.0</td>\n      <td>55.0</td>\n      <td>48.0</td>\n      <td>51.0</td>\n      <td>90.000000</td>\n      <td>87.000000</td>\n      <td>110.333333</td>\n      <td>90.000000</td>\n      <td>83.000000</td>\n      <td>174.000000</td>\n      <td>450.000000</td>\n      <td>286.333333</td>\n      <td>131.0</td>\n      <td>39.0</td>\n      <td>1316.0</td>\n      <td>29.0</td>\n      <td>322.425926</td>\n      <td>3.802476e+05</td>\n    </tr>\n    <tr>\n      <th>12</th>\n      <td>373.000000</td>\n      <td>208.0</td>\n      <td>117.0</td>\n      <td>58.0</td>\n      <td>33.0</td>\n      <td>43.0</td>\n      <td>96.000000</td>\n      <td>78.666667</td>\n      <td>131.000000</td>\n      <td>73.333333</td>\n      <td>88.000000</td>\n      <td>135.000000</td>\n      <td>191.000000</td>\n      <td>535.000000</td>\n      <td>109.0</td>\n      <td>18.0</td>\n      <td>933.0</td>\n      <td>45.0</td>\n      <td>181.388889</td>\n      <td>7.714177e+04</td>\n    </tr>\n    <tr>\n      <th>13</th>\n      <td>179.000000</td>\n      <td>116.0</td>\n      <td>732.0</td>\n      <td>137.0</td>\n      <td>33.0</td>\n      <td>51.0</td>\n      <td>78.000000</td>\n      <td>80.333333</td>\n      <td>146.333333</td>\n      <td>41.333333</td>\n      <td>65.000000</td>\n      <td>96.000000</td>\n      <td>165.000000</td>\n      <td>567.000000</td>\n      <td>89.0</td>\n      <td>54.0</td>\n      <td>1200.0</td>\n      <td>48.0</td>\n      <td>215.444444</td>\n      <td>1.792668e+05</td>\n    </tr>\n    <tr>\n      <th>14</th>\n      <td>144.000000</td>\n      <td>102.0</td>\n      <td>183.0</td>\n      <td>208.0</td>\n      <td>64.0</td>\n      <td>73.0</td>\n      <td>75.000000</td>\n      <td>86.000000</td>\n      <td>173.000000</td>\n      <td>54.000000</td>\n      <td>59.000000</td>\n      <td>92.000000</td>\n      <td>192.000000</td>\n      <td>1555.000000</td>\n      <td>116.0</td>\n      <td>79.0</td>\n      <td>655.0</td>\n      <td>25.0</td>\n      <td>218.611111</td>\n      <td>1.898130e+05</td>\n    </tr>\n    <tr>\n      <th>15</th>\n      <td>171.000000</td>\n      <td>122.0</td>\n      <td>273.0</td>\n      <td>231.0</td>\n      <td>91.0</td>\n      <td>53.0</td>\n      <td>84.000000</td>\n      <td>81.333333</td>\n      <td>176.000000</td>\n      <td>67.333333</td>\n      <td>57.333333</td>\n      <td>89.000000</td>\n      <td>434.000000</td>\n      <td>1286.000000</td>\n      <td>711.0</td>\n      <td>64.0</td>\n      <td>731.0</td>\n      <td>59.0</td>\n      <td>265.611111</td>\n      <td>2.083205e+05</td>\n    </tr>\n    <tr>\n      <th>16</th>\n      <td>146.000000</td>\n      <td>167.0</td>\n      <td>271.0</td>\n      <td>249.0</td>\n      <td>65.0</td>\n      <td>77.0</td>\n      <td>81.000000</td>\n      <td>63.333333</td>\n      <td>167.666667</td>\n      <td>56.000000</td>\n      <td>67.000000</td>\n      <td>110.666667</td>\n      <td>494.666667</td>\n      <td>1121.333333</td>\n      <td>393.0</td>\n      <td>36.0</td>\n      <td>586.0</td>\n      <td>50.0</td>\n      <td>233.425926</td>\n      <td>1.404547e+05</td>\n    </tr>\n    <tr>\n      <th>17</th>\n      <td>181.000000</td>\n      <td>166.0</td>\n      <td>210.0</td>\n      <td>261.0</td>\n      <td>71.0</td>\n      <td>89.0</td>\n      <td>97.333333</td>\n      <td>70.000000</td>\n      <td>156.333333</td>\n      <td>61.000000</td>\n      <td>121.666667</td>\n      <td>133.000000</td>\n      <td>395.000000</td>\n      <td>726.000000</td>\n      <td>120.0</td>\n      <td>43.0</td>\n      <td>348.0</td>\n      <td>33.0</td>\n      <td>182.351852</td>\n      <td>5.290734e+04</td>\n    </tr>\n    <tr>\n      <th>18</th>\n      <td>165.000000</td>\n      <td>103.0</td>\n      <td>244.0</td>\n      <td>212.0</td>\n      <td>91.0</td>\n      <td>122.0</td>\n      <td>93.000000</td>\n      <td>72.333333</td>\n      <td>211.000000</td>\n      <td>66.333333</td>\n      <td>128.000000</td>\n      <td>120.000000</td>\n      <td>500.000000</td>\n      <td>673.000000</td>\n      <td>55.0</td>\n      <td>47.0</td>\n      <td>167.0</td>\n      <td>39.0</td>\n      <td>172.703704</td>\n      <td>4.536615e+04</td>\n    </tr>\n    <tr>\n      <th>19</th>\n      <td>132.000000</td>\n      <td>82.0</td>\n      <td>195.0</td>\n      <td>155.0</td>\n      <td>95.0</td>\n      <td>133.0</td>\n      <td>117.333333</td>\n      <td>57.000000</td>\n      <td>207.000000</td>\n      <td>82.333333</td>\n      <td>131.000000</td>\n      <td>108.000000</td>\n      <td>525.000000</td>\n      <td>699.333333</td>\n      <td>41.0</td>\n      <td>50.0</td>\n      <td>233.0</td>\n      <td>65.0</td>\n      <td>172.666667</td>\n      <td>4.770540e+04</td>\n    </tr>\n    <tr>\n      <th>20</th>\n      <td>127.000000</td>\n      <td>121.0</td>\n      <td>165.0</td>\n      <td>154.0</td>\n      <td>84.0</td>\n      <td>139.0</td>\n      <td>105.000000</td>\n      <td>45.000000</td>\n      <td>207.333333</td>\n      <td>84.000000</td>\n      <td>108.000000</td>\n      <td>177.666667</td>\n      <td>381.333333</td>\n      <td>713.000000</td>\n      <td>59.0</td>\n      <td>52.0</td>\n      <td>87.0</td>\n      <td>49.0</td>\n      <td>158.796296</td>\n      <td>4.000711e+04</td>\n    </tr>\n    <tr>\n      <th>21</th>\n      <td>118.000000</td>\n      <td>114.0</td>\n      <td>184.0</td>\n      <td>121.0</td>\n      <td>83.0</td>\n      <td>155.0</td>\n      <td>75.000000</td>\n      <td>67.000000</td>\n      <td>177.000000</td>\n      <td>99.666667</td>\n      <td>116.333333</td>\n      <td>248.000000</td>\n      <td>333.000000</td>\n      <td>726.000000</td>\n      <td>106.0</td>\n      <td>56.0</td>\n      <td>154.0</td>\n      <td>44.0</td>\n      <td>165.388889</td>\n      <td>4.216989e+04</td>\n    </tr>\n    <tr>\n      <th>22</th>\n      <td>109.000000</td>\n      <td>108.0</td>\n      <td>166.0</td>\n      <td>94.0</td>\n      <td>102.0</td>\n      <td>103.0</td>\n      <td>75.000000</td>\n      <td>98.000000</td>\n      <td>185.333333</td>\n      <td>102.333333</td>\n      <td>127.000000</td>\n      <td>228.333333</td>\n      <td>281.000000</td>\n      <td>765.333333</td>\n      <td>48.0</td>\n      <td>51.0</td>\n      <td>54.0</td>\n      <td>48.0</td>\n      <td>152.518519</td>\n      <td>4.253573e+04</td>\n    </tr>\n    <tr>\n      <th>23</th>\n      <td>103.000000</td>\n      <td>119.0</td>\n      <td>123.0</td>\n      <td>106.0</td>\n      <td>139.0</td>\n      <td>63.0</td>\n      <td>128.333333</td>\n      <td>114.000000</td>\n      <td>171.333333</td>\n      <td>94.000000</td>\n      <td>172.000000</td>\n      <td>209.000000</td>\n      <td>238.000000</td>\n      <td>599.333333</td>\n      <td>18.0</td>\n      <td>59.0</td>\n      <td>68.0</td>\n      <td>48.0</td>\n      <td>142.888889</td>\n      <td>2.805280e+04</td>\n    </tr>\n    <tr>\n      <th>24</th>\n      <td>104.000000</td>\n      <td>127.0</td>\n      <td>113.0</td>\n      <td>117.0</td>\n      <td>96.0</td>\n      <td>59.0</td>\n      <td>133.000000</td>\n      <td>117.333333</td>\n      <td>166.000000</td>\n      <td>73.666667</td>\n      <td>92.000000</td>\n      <td>182.000000</td>\n      <td>319.000000</td>\n      <td>376.000000</td>\n      <td>89.0</td>\n      <td>97.0</td>\n      <td>57.0</td>\n      <td>38.0</td>\n      <td>130.888889</td>\n      <td>1.308725e+04</td>\n    </tr>\n    <tr>\n      <th>25</th>\n      <td>81.000000</td>\n      <td>122.0</td>\n      <td>163.0</td>\n      <td>124.0</td>\n      <td>90.0</td>\n      <td>72.0</td>\n      <td>95.000000</td>\n      <td>100.333333</td>\n      <td>167.333333</td>\n      <td>92.333333</td>\n      <td>119.000000</td>\n      <td>155.000000</td>\n      <td>274.000000</td>\n      <td>373.333333</td>\n      <td>45.0</td>\n      <td>83.0</td>\n      <td>33.0</td>\n      <td>28.0</td>\n      <td>123.185185</td>\n      <td>1.150180e+04</td>\n    </tr>\n    <tr>\n      <th>26</th>\n      <td>113.000000</td>\n      <td>79.0</td>\n      <td>152.0</td>\n      <td>72.0</td>\n      <td>113.0</td>\n      <td>72.0</td>\n      <td>78.000000</td>\n      <td>106.000000</td>\n      <td>152.333333</td>\n      <td>84.000000</td>\n      <td>172.000000</td>\n      <td>206.333333</td>\n      <td>197.333333</td>\n      <td>382.333333</td>\n      <td>33.0</td>\n      <td>33.0</td>\n      <td>166.0</td>\n      <td>48.0</td>\n      <td>125.518519</td>\n      <td>1.265032e+04</td>\n    </tr>\n    <tr>\n      <th>27</th>\n      <td>97.000000</td>\n      <td>126.0</td>\n      <td>113.0</td>\n      <td>72.0</td>\n      <td>79.0</td>\n      <td>61.0</td>\n      <td>102.000000</td>\n      <td>99.333333</td>\n      <td>124.000000</td>\n      <td>78.333333</td>\n      <td>156.000000</td>\n      <td>258.000000</td>\n      <td>134.000000</td>\n      <td>386.000000</td>\n      <td>35.0</td>\n      <td>56.0</td>\n      <td>96.0</td>\n      <td>68.0</td>\n      <td>118.925926</td>\n      <td>1.089248e+04</td>\n    </tr>\n    <tr>\n      <th>28</th>\n      <td>96.000000</td>\n      <td>168.0</td>\n      <td>102.0</td>\n      <td>95.0</td>\n      <td>40.0</td>\n      <td>82.0</td>\n      <td>105.000000</td>\n      <td>78.333333</td>\n      <td>124.666667</td>\n      <td>71.333333</td>\n      <td>138.000000</td>\n      <td>192.666667</td>\n      <td>114.000000</td>\n      <td>373.333333</td>\n      <td>30.0</td>\n      <td>83.0</td>\n      <td>106.0</td>\n      <td>49.0</td>\n      <td>113.796296</td>\n      <td>1.094626e+04</td>\n    </tr>\n    <tr>\n      <th>29</th>\n      <td>86.000000</td>\n      <td>146.0</td>\n      <td>103.0</td>\n      <td>91.0</td>\n      <td>53.0</td>\n      <td>82.0</td>\n      <td>131.333333</td>\n      <td>70.000000</td>\n      <td>113.333333</td>\n      <td>76.000000</td>\n      <td>126.333333</td>\n      <td>128.000000</td>\n      <td>149.000000</td>\n      <td>340.000000</td>\n      <td>49.0</td>\n      <td>77.0</td>\n      <td>64.0</td>\n      <td>10.0</td>\n      <td>105.277778</td>\n      <td>9.875421e+03</td>\n    </tr>\n    <tr>\n      <th>30</th>\n      <td>77.000000</td>\n      <td>117.0</td>\n      <td>92.0</td>\n      <td>133.0</td>\n      <td>114.0</td>\n      <td>75.0</td>\n      <td>145.000000</td>\n      <td>79.666667</td>\n      <td>120.000000</td>\n      <td>83.000000</td>\n      <td>101.000000</td>\n      <td>154.666667</td>\n      <td>179.000000</td>\n      <td>268.000000</td>\n      <td>25.0</td>\n      <td>71.0</td>\n      <td>26.0</td>\n      <td>19.0</td>\n      <td>104.407407</td>\n      <td>6.912241e+03</td>\n    </tr>\n    <tr>\n      <th>31</th>\n      <td>52.000000</td>\n      <td>60.0</td>\n      <td>92.0</td>\n      <td>109.0</td>\n      <td>102.0</td>\n      <td>72.0</td>\n      <td>115.666667</td>\n      <td>85.000000</td>\n      <td>131.000000</td>\n      <td>113.000000</td>\n      <td>101.000000</td>\n      <td>182.000000</td>\n      <td>179.000000</td>\n      <td>253.666667</td>\n      <td>19.0</td>\n      <td>65.0</td>\n      <td>9.0</td>\n      <td>32.0</td>\n      <td>98.462963</td>\n      <td>7.512964e+03</td>\n    </tr>\n    <tr>\n      <th>32</th>\n      <td>68.000000</td>\n      <td>64.0</td>\n      <td>97.0</td>\n      <td>72.0</td>\n      <td>57.0</td>\n      <td>67.0</td>\n      <td>63.000000</td>\n      <td>60.000000</td>\n      <td>160.000000</td>\n      <td>122.000000</td>\n      <td>90.000000</td>\n      <td>197.333333</td>\n      <td>151.000000</td>\n      <td>231.000000</td>\n      <td>44.0</td>\n      <td>62.0</td>\n      <td>20.0</td>\n      <td>33.0</td>\n      <td>92.129630</td>\n      <td>6.530493e+03</td>\n    </tr>\n    <tr>\n      <th>33</th>\n      <td>85.000000</td>\n      <td>85.0</td>\n      <td>82.0</td>\n      <td>59.0</td>\n      <td>72.0</td>\n      <td>82.0</td>\n      <td>72.000000</td>\n      <td>53.000000</td>\n      <td>147.000000</td>\n      <td>101.666667</td>\n      <td>96.000000</td>\n      <td>213.000000</td>\n      <td>118.000000</td>\n      <td>208.000000</td>\n      <td>37.0</td>\n      <td>64.0</td>\n      <td>32.0</td>\n      <td>36.0</td>\n      <td>91.259259</td>\n      <td>5.149140e+03</td>\n    </tr>\n    <tr>\n      <th>34</th>\n      <td>117.000000</td>\n      <td>66.0</td>\n      <td>73.0</td>\n      <td>79.0</td>\n      <td>95.0</td>\n      <td>44.0</td>\n      <td>93.000000</td>\n      <td>74.333333</td>\n      <td>110.666667</td>\n      <td>42.000000</td>\n      <td>114.000000</td>\n      <td>172.666667</td>\n      <td>112.333333</td>\n      <td>197.333333</td>\n      <td>12.0</td>\n      <td>64.0</td>\n      <td>32.0</td>\n      <td>61.0</td>\n      <td>86.629630</td>\n      <td>4.647031e+03</td>\n    </tr>\n    <tr>\n      <th>35</th>\n      <td>116.000000</td>\n      <td>77.0</td>\n      <td>94.0</td>\n      <td>60.0</td>\n      <td>103.0</td>\n      <td>23.0</td>\n      <td>135.000000</td>\n      <td>100.000000</td>\n      <td>98.000000</td>\n      <td>17.000000</td>\n      <td>114.333333</td>\n      <td>133.000000</td>\n      <td>70.000000</td>\n      <td>157.000000</td>\n      <td>6.0</td>\n      <td>83.0</td>\n      <td>36.0</td>\n      <td>81.0</td>\n      <td>83.518519</td>\n      <td>2.894755e+03</td>\n    </tr>\n    <tr>\n      <th>36</th>\n      <td>81.000000</td>\n      <td>68.0</td>\n      <td>140.0</td>\n      <td>81.0</td>\n      <td>86.0</td>\n      <td>70.0</td>\n      <td>129.000000</td>\n      <td>98.666667</td>\n      <td>106.000000</td>\n      <td>24.666667</td>\n      <td>107.000000</td>\n      <td>108.666667</td>\n      <td>79.000000</td>\n      <td>100.000000</td>\n      <td>19.0</td>\n      <td>76.0</td>\n      <td>38.0</td>\n      <td>59.0</td>\n      <td>81.722222</td>\n      <td>2.029279e+03</td>\n    </tr>\n    <tr>\n      <th>37</th>\n      <td>85.000000</td>\n      <td>90.0</td>\n      <td>116.0</td>\n      <td>92.0</td>\n      <td>134.0</td>\n      <td>66.0</td>\n      <td>109.333333</td>\n      <td>76.000000</td>\n      <td>116.000000</td>\n      <td>58.333333</td>\n      <td>86.000000</td>\n      <td>85.000000</td>\n      <td>106.000000</td>\n      <td>101.333333</td>\n      <td>82.0</td>\n      <td>74.0</td>\n      <td>55.0</td>\n      <td>81.0</td>\n      <td>89.611111</td>\n      <td>1.804655e+03</td>\n    </tr>\n    <tr>\n      <th>38</th>\n      <td>120.000000</td>\n      <td>86.0</td>\n      <td>100.0</td>\n      <td>80.0</td>\n      <td>130.0</td>\n      <td>40.0</td>\n      <td>90.000000</td>\n      <td>69.000000</td>\n      <td>147.333333</td>\n      <td>52.000000</td>\n      <td>92.000000</td>\n      <td>102.000000</td>\n      <td>83.333333</td>\n      <td>125.000000</td>\n      <td>46.0</td>\n      <td>55.0</td>\n      <td>60.0</td>\n      <td>66.0</td>\n      <td>85.759259</td>\n      <td>2.267888e+03</td>\n    </tr>\n    <tr>\n      <th>39</th>\n      <td>97.000000</td>\n      <td>105.0</td>\n      <td>83.0</td>\n      <td>85.0</td>\n      <td>131.0</td>\n      <td>47.0</td>\n      <td>140.000000</td>\n      <td>67.333333</td>\n      <td>139.000000</td>\n      <td>40.333333</td>\n      <td>99.333333</td>\n      <td>119.000000</td>\n      <td>85.000000</td>\n      <td>111.000000</td>\n      <td>45.0</td>\n      <td>47.0</td>\n      <td>64.0</td>\n      <td>56.0</td>\n      <td>86.722222</td>\n      <td>3.355057e+03</td>\n    </tr>\n    <tr>\n      <th>40</th>\n      <td>78.000000</td>\n      <td>72.0</td>\n      <td>107.0</td>\n      <td>69.0</td>\n      <td>117.0</td>\n      <td>94.0</td>\n      <td>122.000000</td>\n      <td>78.333333</td>\n      <td>129.666667</td>\n      <td>60.333333</td>\n      <td>90.000000</td>\n      <td>134.000000</td>\n      <td>79.333333</td>\n      <td>109.333333</td>\n      <td>28.0</td>\n      <td>57.0</td>\n      <td>58.0</td>\n      <td>58.0</td>\n      <td>85.611111</td>\n      <td>1.900676e+03</td>\n    </tr>\n    <tr>\n      <th>41</th>\n      <td>112.000000</td>\n      <td>47.0</td>\n      <td>110.0</td>\n      <td>74.0</td>\n      <td>102.0</td>\n      <td>121.0</td>\n      <td>70.333333</td>\n      <td>77.000000</td>\n      <td>120.000000</td>\n      <td>84.000000</td>\n      <td>89.333333</td>\n      <td>150.000000</td>\n      <td>119.000000</td>\n      <td>71.000000</td>\n      <td>35.0</td>\n      <td>64.0</td>\n      <td>38.0</td>\n      <td>35.0</td>\n      <td>84.370370</td>\n      <td>1.996813e+03</td>\n    </tr>\n    <tr>\n      <th>42</th>\n      <td>90.000000</td>\n      <td>73.0</td>\n      <td>99.0</td>\n      <td>69.0</td>\n      <td>46.0</td>\n      <td>97.0</td>\n      <td>60.000000</td>\n      <td>76.000000</td>\n      <td>94.000000</td>\n      <td>81.666667</td>\n      <td>72.000000</td>\n      <td>150.000000</td>\n      <td>100.000000</td>\n      <td>100.000000</td>\n      <td>50.0</td>\n      <td>64.0</td>\n      <td>39.0</td>\n      <td>18.0</td>\n      <td>76.592593</td>\n      <td>1.721056e+03</td>\n    </tr>\n    <tr>\n      <th>43</th>\n      <td>81.000000</td>\n      <td>104.0</td>\n      <td>100.0</td>\n      <td>66.0</td>\n      <td>87.0</td>\n      <td>70.0</td>\n      <td>86.666667</td>\n      <td>80.000000</td>\n      <td>95.000000</td>\n      <td>72.333333</td>\n      <td>116.000000</td>\n      <td>151.000000</td>\n      <td>106.000000</td>\n      <td>106.000000</td>\n      <td>44.0</td>\n      <td>65.0</td>\n      <td>37.0</td>\n      <td>21.0</td>\n      <td>82.666667</td>\n      <td>1.868883e+03</td>\n    </tr>\n    <tr>\n      <th>44</th>\n      <td>89.000000</td>\n      <td>106.0</td>\n      <td>83.0</td>\n      <td>78.0</td>\n      <td>87.0</td>\n      <td>47.0</td>\n      <td>90.000000</td>\n      <td>99.000000</td>\n      <td>85.333333</td>\n      <td>88.000000</td>\n      <td>60.000000</td>\n      <td>134.000000</td>\n      <td>98.000000</td>\n      <td>98.333333</td>\n      <td>47.0</td>\n      <td>66.0</td>\n      <td>27.0</td>\n      <td>6.0</td>\n      <td>77.148148</td>\n      <td>1.726292e+03</td>\n    </tr>\n    <tr>\n      <th>45</th>\n      <td>84.000000</td>\n      <td>94.0</td>\n      <td>92.0</td>\n      <td>117.0</td>\n      <td>124.0</td>\n      <td>39.0</td>\n      <td>93.000000</td>\n      <td>88.666667</td>\n      <td>84.000000</td>\n      <td>88.333333</td>\n      <td>56.000000</td>\n      <td>117.000000</td>\n      <td>93.000000</td>\n      <td>69.000000</td>\n      <td>29.0</td>\n      <td>59.0</td>\n      <td>33.0</td>\n      <td>24.0</td>\n      <td>76.888889</td>\n      <td>1.864109e+03</td>\n    </tr>\n    <tr>\n      <th>46</th>\n      <td>88.000000</td>\n      <td>128.0</td>\n      <td>58.0</td>\n      <td>92.0</td>\n      <td>105.0</td>\n      <td>61.0</td>\n      <td>93.000000</td>\n      <td>80.333333</td>\n      <td>87.333333</td>\n      <td>64.333333</td>\n      <td>60.000000</td>\n      <td>103.666667</td>\n      <td>84.333333</td>\n      <td>73.333333</td>\n      <td>19.0</td>\n      <td>45.0</td>\n      <td>60.0</td>\n      <td>27.0</td>\n      <td>73.851852</td>\n      <td>1.484981e+03</td>\n    </tr>\n    <tr>\n      <th>47</th>\n      <td>79.000000</td>\n      <td>84.0</td>\n      <td>63.0</td>\n      <td>61.0</td>\n      <td>78.0</td>\n      <td>59.0</td>\n      <td>75.000000</td>\n      <td>55.000000</td>\n      <td>120.333333</td>\n      <td>55.000000</td>\n      <td>88.000000</td>\n      <td>91.000000</td>\n      <td>66.000000</td>\n      <td>107.333333</td>\n      <td>20.0</td>\n      <td>55.0</td>\n      <td>29.0</td>\n      <td>18.0</td>\n      <td>66.870370</td>\n      <td>1.320764e+03</td>\n    </tr>\n  </tbody>\n</table>\n</div>"
     },
     "metadata": {},
     "execution_count": 24
    }
   ],
   "source": [
    "avgFrm"
   ]
  },
  {
   "cell_type": "code",
   "execution_count": 25,
   "metadata": {},
   "outputs": [],
   "source": [
    "directory = './dataInfo'\n",
    "if not os.path.exists(directory):\n",
    "    os.makedirs(directory)\n",
    "location = os.path.join(directory,'ZoneAssignments.csv')\n",
    "ZDf.to_csv(location,index=False)"
   ]
  },
  {
   "source": [
    "Zoning the expirement data."
   ],
   "cell_type": "markdown",
   "metadata": {}
  },
  {
   "cell_type": "code",
   "execution_count": 26,
   "metadata": {},
   "outputs": [
    {
     "output_type": "execute_result",
     "data": {
      "text/plain": [
       "            S-01    S-02   S-03   S-04   S-05   S-06        S-07        S-08  \\\n",
       "0     119.000000   112.0   78.0   59.0   77.0   79.0   75.000000   56.333333   \n",
       "1      86.000000   107.0   57.0   50.0   73.0   98.0   77.666667   97.000000   \n",
       "2      83.000000   113.0  103.0   94.0   52.0   82.0   84.000000   94.000000   \n",
       "3      41.000000   112.0  144.0  104.0   64.0   94.0   96.000000   83.666667   \n",
       "4      80.000000    76.0  119.0   85.0   76.0   81.0   87.000000   86.000000   \n",
       "5   10289.000000   145.0  125.0   66.0   64.0   74.0   82.333333   90.000000   \n",
       "6   11849.666667  7949.0   96.0   64.0   61.0  112.0   78.000000   81.333333   \n",
       "7   20848.666667  1735.0  270.0   75.0   48.0   97.0   92.666667   72.000000   \n",
       "8   15862.666667  3302.0  138.0   66.0   58.0   67.0  120.000000   86.000000   \n",
       "9   15946.666667  1568.0  126.0   80.0   53.0   96.0  102.000000  107.000000   \n",
       "10  10698.000000  3318.0  130.0   80.0   39.0   87.0   84.000000   89.000000   \n",
       "11   1461.000000  1158.0  145.0   55.0   48.0   51.0   90.000000   87.000000   \n",
       "12    373.000000   208.0  117.0   58.0   33.0   43.0   96.000000   78.666667   \n",
       "13    179.000000   116.0  732.0  137.0   33.0   51.0   78.000000   80.333333   \n",
       "14    144.000000   102.0  183.0  208.0   64.0   73.0   75.000000   86.000000   \n",
       "15    171.000000   122.0  273.0  231.0   91.0   53.0   84.000000   81.333333   \n",
       "16    146.000000   167.0  271.0  249.0   65.0   77.0   81.000000   63.333333   \n",
       "17    181.000000   166.0  210.0  261.0   71.0   89.0   97.333333   70.000000   \n",
       "18    165.000000   103.0  244.0  212.0   91.0  122.0   93.000000   72.333333   \n",
       "19    132.000000    82.0  195.0  155.0   95.0  133.0  117.333333   57.000000   \n",
       "20    127.000000   121.0  165.0  154.0   84.0  139.0  105.000000   45.000000   \n",
       "21    118.000000   114.0  184.0  121.0   83.0  155.0   75.000000   67.000000   \n",
       "22    109.000000   108.0  166.0   94.0  102.0  103.0   75.000000   98.000000   \n",
       "23    103.000000   119.0  123.0  106.0  139.0   63.0  128.333333  114.000000   \n",
       "24    104.000000   127.0  113.0  117.0   96.0   59.0  133.000000  117.333333   \n",
       "25     81.000000   122.0  163.0  124.0   90.0   72.0   95.000000  100.333333   \n",
       "26    113.000000    79.0  152.0   72.0  113.0   72.0   78.000000  106.000000   \n",
       "27     97.000000   126.0  113.0   72.0   79.0   61.0  102.000000   99.333333   \n",
       "28     96.000000   168.0  102.0   95.0   40.0   82.0  105.000000   78.333333   \n",
       "29     86.000000   146.0  103.0   91.0   53.0   82.0  131.333333   70.000000   \n",
       "30     77.000000   117.0   92.0  133.0  114.0   75.0  145.000000   79.666667   \n",
       "31     52.000000    60.0   92.0  109.0  102.0   72.0  115.666667   85.000000   \n",
       "32     68.000000    64.0   97.0   72.0   57.0   67.0   63.000000   60.000000   \n",
       "33     85.000000    85.0   82.0   59.0   72.0   82.0   72.000000   53.000000   \n",
       "34    117.000000    66.0   73.0   79.0   95.0   44.0   93.000000   74.333333   \n",
       "35    116.000000    77.0   94.0   60.0  103.0   23.0  135.000000  100.000000   \n",
       "36     81.000000    68.0  140.0   81.0   86.0   70.0  129.000000   98.666667   \n",
       "37     85.000000    90.0  116.0   92.0  134.0   66.0  109.333333   76.000000   \n",
       "38    120.000000    86.0  100.0   80.0  130.0   40.0   90.000000   69.000000   \n",
       "39     97.000000   105.0   83.0   85.0  131.0   47.0  140.000000   67.333333   \n",
       "40     78.000000    72.0  107.0   69.0  117.0   94.0  122.000000   78.333333   \n",
       "41    112.000000    47.0  110.0   74.0  102.0  121.0   70.333333   77.000000   \n",
       "42     90.000000    73.0   99.0   69.0   46.0   97.0   60.000000   76.000000   \n",
       "43     81.000000   104.0  100.0   66.0   87.0   70.0   86.666667   80.000000   \n",
       "44     89.000000   106.0   83.0   78.0   87.0   47.0   90.000000   99.000000   \n",
       "45     84.000000    94.0   92.0  117.0  124.0   39.0   93.000000   88.666667   \n",
       "46     88.000000   128.0   58.0   92.0  105.0   61.0   93.000000   80.333333   \n",
       "47     79.000000    84.0   63.0   61.0   78.0   59.0   75.000000   55.000000   \n",
       "\n",
       "          S-09        S-10        S-11        S-12        S-13         S-14  \\\n",
       "0   193.000000   81.666667   89.000000  235.666667  197.000000   476.000000   \n",
       "1   205.333333   63.333333  146.000000  187.000000  191.000000   416.333333   \n",
       "2   173.333333   85.000000  111.000000  164.333333  242.000000   214.000000   \n",
       "3   201.000000   94.666667  121.333333  142.000000  227.000000   239.000000   \n",
       "4   204.666667   88.000000  124.000000  149.333333  188.333333   305.666667   \n",
       "5   176.333333   63.000000  100.000000  157.000000  125.000000   291.000000   \n",
       "6   180.000000   63.666667   57.000000  129.333333   79.000000   277.000000   \n",
       "7   183.666667   80.000000   61.000000  102.000000   85.000000   290.000000   \n",
       "8   193.000000  101.000000   69.000000   88.000000  169.000000   208.000000   \n",
       "9   174.000000  107.333333   72.333333   75.000000  265.000000   226.000000   \n",
       "10  154.000000  101.333333   77.000000  124.333333  266.000000   247.000000   \n",
       "11  110.333333   90.000000   83.000000  174.000000  450.000000   286.333333   \n",
       "12  131.000000   73.333333   88.000000  135.000000  191.000000   535.000000   \n",
       "13  146.333333   41.333333   65.000000   96.000000  165.000000   567.000000   \n",
       "14  173.000000   54.000000   59.000000   92.000000  192.000000  1555.000000   \n",
       "15  176.000000   67.333333   57.333333   89.000000  434.000000  1286.000000   \n",
       "16  167.666667   56.000000   67.000000  110.666667  494.666667  1121.333333   \n",
       "17  156.333333   61.000000  121.666667  133.000000  395.000000   726.000000   \n",
       "18  211.000000   66.333333  128.000000  120.000000  500.000000   673.000000   \n",
       "19  207.000000   82.333333  131.000000  108.000000  525.000000   699.333333   \n",
       "20  207.333333   84.000000  108.000000  177.666667  381.333333   713.000000   \n",
       "21  177.000000   99.666667  116.333333  248.000000  333.000000   726.000000   \n",
       "22  185.333333  102.333333  127.000000  228.333333  281.000000   765.333333   \n",
       "23  171.333333   94.000000  172.000000  209.000000  238.000000   599.333333   \n",
       "24  166.000000   73.666667   92.000000  182.000000  319.000000   376.000000   \n",
       "25  167.333333   92.333333  119.000000  155.000000  274.000000   373.333333   \n",
       "26  152.333333   84.000000  172.000000  206.333333  197.333333   382.333333   \n",
       "27  124.000000   78.333333  156.000000  258.000000  134.000000   386.000000   \n",
       "28  124.666667   71.333333  138.000000  192.666667  114.000000   373.333333   \n",
       "29  113.333333   76.000000  126.333333  128.000000  149.000000   340.000000   \n",
       "30  120.000000   83.000000  101.000000  154.666667  179.000000   268.000000   \n",
       "31  131.000000  113.000000  101.000000  182.000000  179.000000   253.666667   \n",
       "32  160.000000  122.000000   90.000000  197.333333  151.000000   231.000000   \n",
       "33  147.000000  101.666667   96.000000  213.000000  118.000000   208.000000   \n",
       "34  110.666667   42.000000  114.000000  172.666667  112.333333   197.333333   \n",
       "35   98.000000   17.000000  114.333333  133.000000   70.000000   157.000000   \n",
       "36  106.000000   24.666667  107.000000  108.666667   79.000000   100.000000   \n",
       "37  116.000000   58.333333   86.000000   85.000000  106.000000   101.333333   \n",
       "38  147.333333   52.000000   92.000000  102.000000   83.333333   125.000000   \n",
       "39  139.000000   40.333333   99.333333  119.000000   85.000000   111.000000   \n",
       "40  129.666667   60.333333   90.000000  134.000000   79.333333   109.333333   \n",
       "41  120.000000   84.000000   89.333333  150.000000  119.000000    71.000000   \n",
       "42   94.000000   81.666667   72.000000  150.000000  100.000000   100.000000   \n",
       "43   95.000000   72.333333  116.000000  151.000000  106.000000   106.000000   \n",
       "44   85.333333   88.000000   60.000000  134.000000   98.000000    98.333333   \n",
       "45   84.000000   88.333333   56.000000  117.000000   93.000000    69.000000   \n",
       "46   87.333333   64.333333   60.000000  103.666667   84.333333    73.333333   \n",
       "47  120.333333   55.000000   88.000000   91.000000   66.000000   107.333333   \n",
       "\n",
       "     S-15  S-16    S-18  S-19      Average      Variance  \n",
       "0    52.0  71.0    95.0  51.0   122.037037  3.263455e+04  \n",
       "1    80.0  66.0    87.0  50.0   118.759259  2.317846e+04  \n",
       "2   128.0  81.0    60.0  39.0   111.259259  8.057447e+03  \n",
       "3    64.0  85.0    19.0  43.0   109.703704  8.799648e+03  \n",
       "4    27.0  60.0   167.0  41.0   113.611111  1.150447e+04  \n",
       "5    23.0  70.0   102.0  53.0   671.981481  8.200636e+06  \n",
       "6    24.0  63.0    95.0  56.0  1184.166667  2.207053e+07  \n",
       "7    73.0  38.0    49.0  38.0  1346.555556  3.430285e+07  \n",
       "8   395.0  29.0    37.0  52.0  1168.925926  3.843840e+07  \n",
       "9   641.0  55.0   335.0  42.0  1115.074074  2.066686e+07  \n",
       "10  304.0  63.0  1263.0   9.0   951.870370  1.166981e+07  \n",
       "11  131.0  39.0  1316.0  29.0   322.425926  3.802476e+05  \n",
       "12  109.0  18.0   933.0  45.0   181.388889  7.714177e+04  \n",
       "13   89.0  54.0  1200.0  48.0   215.444444  1.792668e+05  \n",
       "14  116.0  79.0   655.0  25.0   218.611111  1.898130e+05  \n",
       "15  711.0  64.0   731.0  59.0   265.611111  2.083205e+05  \n",
       "16  393.0  36.0   586.0  50.0   233.425926  1.404547e+05  \n",
       "17  120.0  43.0   348.0  33.0   182.351852  5.290734e+04  \n",
       "18   55.0  47.0   167.0  39.0   172.703704  4.536615e+04  \n",
       "19   41.0  50.0   233.0  65.0   172.666667  4.770540e+04  \n",
       "20   59.0  52.0    87.0  49.0   158.796296  4.000711e+04  \n",
       "21  106.0  56.0   154.0  44.0   165.388889  4.216989e+04  \n",
       "22   48.0  51.0    54.0  48.0   152.518519  4.253573e+04  \n",
       "23   18.0  59.0    68.0  48.0   142.888889  2.805280e+04  \n",
       "24   89.0  97.0    57.0  38.0   130.888889  1.308725e+04  \n",
       "25   45.0  83.0    33.0  28.0   123.185185  1.150180e+04  \n",
       "26   33.0  33.0   166.0  48.0   125.518519  1.265032e+04  \n",
       "27   35.0  56.0    96.0  68.0   118.925926  1.089248e+04  \n",
       "28   30.0  83.0   106.0  49.0   113.796296  1.094626e+04  \n",
       "29   49.0  77.0    64.0  10.0   105.277778  9.875421e+03  \n",
       "30   25.0  71.0    26.0  19.0   104.407407  6.912241e+03  \n",
       "31   19.0  65.0     9.0  32.0    98.462963  7.512964e+03  \n",
       "32   44.0  62.0    20.0  33.0    92.129630  6.530493e+03  \n",
       "33   37.0  64.0    32.0  36.0    91.259259  5.149140e+03  \n",
       "34   12.0  64.0    32.0  61.0    86.629630  4.647031e+03  \n",
       "35    6.0  83.0    36.0  81.0    83.518519  2.894755e+03  \n",
       "36   19.0  76.0    38.0  59.0    81.722222  2.029279e+03  \n",
       "37   82.0  74.0    55.0  81.0    89.611111  1.804655e+03  \n",
       "38   46.0  55.0    60.0  66.0    85.759259  2.267888e+03  \n",
       "39   45.0  47.0    64.0  56.0    86.722222  3.355057e+03  \n",
       "40   28.0  57.0    58.0  58.0    85.611111  1.900676e+03  \n",
       "41   35.0  64.0    38.0  35.0    84.370370  1.996813e+03  \n",
       "42   50.0  64.0    39.0  18.0    76.592593  1.721056e+03  \n",
       "43   44.0  65.0    37.0  21.0    82.666667  1.868883e+03  \n",
       "44   47.0  66.0    27.0   6.0    77.148148  1.726292e+03  \n",
       "45   29.0  59.0    33.0  24.0    76.888889  1.864109e+03  \n",
       "46   19.0  45.0    60.0  27.0    73.851852  1.484981e+03  \n",
       "47   20.0  55.0    29.0  18.0    66.870370  1.320764e+03  "
      ],
      "text/html": "<div>\n<style scoped>\n    .dataframe tbody tr th:only-of-type {\n        vertical-align: middle;\n    }\n\n    .dataframe tbody tr th {\n        vertical-align: top;\n    }\n\n    .dataframe thead th {\n        text-align: right;\n    }\n</style>\n<table border=\"1\" class=\"dataframe\">\n  <thead>\n    <tr style=\"text-align: right;\">\n      <th></th>\n      <th>S-01</th>\n      <th>S-02</th>\n      <th>S-03</th>\n      <th>S-04</th>\n      <th>S-05</th>\n      <th>S-06</th>\n      <th>S-07</th>\n      <th>S-08</th>\n      <th>S-09</th>\n      <th>S-10</th>\n      <th>S-11</th>\n      <th>S-12</th>\n      <th>S-13</th>\n      <th>S-14</th>\n      <th>S-15</th>\n      <th>S-16</th>\n      <th>S-18</th>\n      <th>S-19</th>\n      <th>Average</th>\n      <th>Variance</th>\n    </tr>\n  </thead>\n  <tbody>\n    <tr>\n      <th>0</th>\n      <td>119.000000</td>\n      <td>112.0</td>\n      <td>78.0</td>\n      <td>59.0</td>\n      <td>77.0</td>\n      <td>79.0</td>\n      <td>75.000000</td>\n      <td>56.333333</td>\n      <td>193.000000</td>\n      <td>81.666667</td>\n      <td>89.000000</td>\n      <td>235.666667</td>\n      <td>197.000000</td>\n      <td>476.000000</td>\n      <td>52.0</td>\n      <td>71.0</td>\n      <td>95.0</td>\n      <td>51.0</td>\n      <td>122.037037</td>\n      <td>3.263455e+04</td>\n    </tr>\n    <tr>\n      <th>1</th>\n      <td>86.000000</td>\n      <td>107.0</td>\n      <td>57.0</td>\n      <td>50.0</td>\n      <td>73.0</td>\n      <td>98.0</td>\n      <td>77.666667</td>\n      <td>97.000000</td>\n      <td>205.333333</td>\n      <td>63.333333</td>\n      <td>146.000000</td>\n      <td>187.000000</td>\n      <td>191.000000</td>\n      <td>416.333333</td>\n      <td>80.0</td>\n      <td>66.0</td>\n      <td>87.0</td>\n      <td>50.0</td>\n      <td>118.759259</td>\n      <td>2.317846e+04</td>\n    </tr>\n    <tr>\n      <th>2</th>\n      <td>83.000000</td>\n      <td>113.0</td>\n      <td>103.0</td>\n      <td>94.0</td>\n      <td>52.0</td>\n      <td>82.0</td>\n      <td>84.000000</td>\n      <td>94.000000</td>\n      <td>173.333333</td>\n      <td>85.000000</td>\n      <td>111.000000</td>\n      <td>164.333333</td>\n      <td>242.000000</td>\n      <td>214.000000</td>\n      <td>128.0</td>\n      <td>81.0</td>\n      <td>60.0</td>\n      <td>39.0</td>\n      <td>111.259259</td>\n      <td>8.057447e+03</td>\n    </tr>\n    <tr>\n      <th>3</th>\n      <td>41.000000</td>\n      <td>112.0</td>\n      <td>144.0</td>\n      <td>104.0</td>\n      <td>64.0</td>\n      <td>94.0</td>\n      <td>96.000000</td>\n      <td>83.666667</td>\n      <td>201.000000</td>\n      <td>94.666667</td>\n      <td>121.333333</td>\n      <td>142.000000</td>\n      <td>227.000000</td>\n      <td>239.000000</td>\n      <td>64.0</td>\n      <td>85.0</td>\n      <td>19.0</td>\n      <td>43.0</td>\n      <td>109.703704</td>\n      <td>8.799648e+03</td>\n    </tr>\n    <tr>\n      <th>4</th>\n      <td>80.000000</td>\n      <td>76.0</td>\n      <td>119.0</td>\n      <td>85.0</td>\n      <td>76.0</td>\n      <td>81.0</td>\n      <td>87.000000</td>\n      <td>86.000000</td>\n      <td>204.666667</td>\n      <td>88.000000</td>\n      <td>124.000000</td>\n      <td>149.333333</td>\n      <td>188.333333</td>\n      <td>305.666667</td>\n      <td>27.0</td>\n      <td>60.0</td>\n      <td>167.0</td>\n      <td>41.0</td>\n      <td>113.611111</td>\n      <td>1.150447e+04</td>\n    </tr>\n    <tr>\n      <th>5</th>\n      <td>10289.000000</td>\n      <td>145.0</td>\n      <td>125.0</td>\n      <td>66.0</td>\n      <td>64.0</td>\n      <td>74.0</td>\n      <td>82.333333</td>\n      <td>90.000000</td>\n      <td>176.333333</td>\n      <td>63.000000</td>\n      <td>100.000000</td>\n      <td>157.000000</td>\n      <td>125.000000</td>\n      <td>291.000000</td>\n      <td>23.0</td>\n      <td>70.0</td>\n      <td>102.0</td>\n      <td>53.0</td>\n      <td>671.981481</td>\n      <td>8.200636e+06</td>\n    </tr>\n    <tr>\n      <th>6</th>\n      <td>11849.666667</td>\n      <td>7949.0</td>\n      <td>96.0</td>\n      <td>64.0</td>\n      <td>61.0</td>\n      <td>112.0</td>\n      <td>78.000000</td>\n      <td>81.333333</td>\n      <td>180.000000</td>\n      <td>63.666667</td>\n      <td>57.000000</td>\n      <td>129.333333</td>\n      <td>79.000000</td>\n      <td>277.000000</td>\n      <td>24.0</td>\n      <td>63.0</td>\n      <td>95.0</td>\n      <td>56.0</td>\n      <td>1184.166667</td>\n      <td>2.207053e+07</td>\n    </tr>\n    <tr>\n      <th>7</th>\n      <td>20848.666667</td>\n      <td>1735.0</td>\n      <td>270.0</td>\n      <td>75.0</td>\n      <td>48.0</td>\n      <td>97.0</td>\n      <td>92.666667</td>\n      <td>72.000000</td>\n      <td>183.666667</td>\n      <td>80.000000</td>\n      <td>61.000000</td>\n      <td>102.000000</td>\n      <td>85.000000</td>\n      <td>290.000000</td>\n      <td>73.0</td>\n      <td>38.0</td>\n      <td>49.0</td>\n      <td>38.0</td>\n      <td>1346.555556</td>\n      <td>3.430285e+07</td>\n    </tr>\n    <tr>\n      <th>8</th>\n      <td>15862.666667</td>\n      <td>3302.0</td>\n      <td>138.0</td>\n      <td>66.0</td>\n      <td>58.0</td>\n      <td>67.0</td>\n      <td>120.000000</td>\n      <td>86.000000</td>\n      <td>193.000000</td>\n      <td>101.000000</td>\n      <td>69.000000</td>\n      <td>88.000000</td>\n      <td>169.000000</td>\n      <td>208.000000</td>\n      <td>395.0</td>\n      <td>29.0</td>\n      <td>37.0</td>\n      <td>52.0</td>\n      <td>1168.925926</td>\n      <td>3.843840e+07</td>\n    </tr>\n    <tr>\n      <th>9</th>\n      <td>15946.666667</td>\n      <td>1568.0</td>\n      <td>126.0</td>\n      <td>80.0</td>\n      <td>53.0</td>\n      <td>96.0</td>\n      <td>102.000000</td>\n      <td>107.000000</td>\n      <td>174.000000</td>\n      <td>107.333333</td>\n      <td>72.333333</td>\n      <td>75.000000</td>\n      <td>265.000000</td>\n      <td>226.000000</td>\n      <td>641.0</td>\n      <td>55.0</td>\n      <td>335.0</td>\n      <td>42.0</td>\n      <td>1115.074074</td>\n      <td>2.066686e+07</td>\n    </tr>\n    <tr>\n      <th>10</th>\n      <td>10698.000000</td>\n      <td>3318.0</td>\n      <td>130.0</td>\n      <td>80.0</td>\n      <td>39.0</td>\n      <td>87.0</td>\n      <td>84.000000</td>\n      <td>89.000000</td>\n      <td>154.000000</td>\n      <td>101.333333</td>\n      <td>77.000000</td>\n      <td>124.333333</td>\n      <td>266.000000</td>\n      <td>247.000000</td>\n      <td>304.0</td>\n      <td>63.0</td>\n      <td>1263.0</td>\n      <td>9.0</td>\n      <td>951.870370</td>\n      <td>1.166981e+07</td>\n    </tr>\n    <tr>\n      <th>11</th>\n      <td>1461.000000</td>\n      <td>1158.0</td>\n      <td>145.0</td>\n      <td>55.0</td>\n      <td>48.0</td>\n      <td>51.0</td>\n      <td>90.000000</td>\n      <td>87.000000</td>\n      <td>110.333333</td>\n      <td>90.000000</td>\n      <td>83.000000</td>\n      <td>174.000000</td>\n      <td>450.000000</td>\n      <td>286.333333</td>\n      <td>131.0</td>\n      <td>39.0</td>\n      <td>1316.0</td>\n      <td>29.0</td>\n      <td>322.425926</td>\n      <td>3.802476e+05</td>\n    </tr>\n    <tr>\n      <th>12</th>\n      <td>373.000000</td>\n      <td>208.0</td>\n      <td>117.0</td>\n      <td>58.0</td>\n      <td>33.0</td>\n      <td>43.0</td>\n      <td>96.000000</td>\n      <td>78.666667</td>\n      <td>131.000000</td>\n      <td>73.333333</td>\n      <td>88.000000</td>\n      <td>135.000000</td>\n      <td>191.000000</td>\n      <td>535.000000</td>\n      <td>109.0</td>\n      <td>18.0</td>\n      <td>933.0</td>\n      <td>45.0</td>\n      <td>181.388889</td>\n      <td>7.714177e+04</td>\n    </tr>\n    <tr>\n      <th>13</th>\n      <td>179.000000</td>\n      <td>116.0</td>\n      <td>732.0</td>\n      <td>137.0</td>\n      <td>33.0</td>\n      <td>51.0</td>\n      <td>78.000000</td>\n      <td>80.333333</td>\n      <td>146.333333</td>\n      <td>41.333333</td>\n      <td>65.000000</td>\n      <td>96.000000</td>\n      <td>165.000000</td>\n      <td>567.000000</td>\n      <td>89.0</td>\n      <td>54.0</td>\n      <td>1200.0</td>\n      <td>48.0</td>\n      <td>215.444444</td>\n      <td>1.792668e+05</td>\n    </tr>\n    <tr>\n      <th>14</th>\n      <td>144.000000</td>\n      <td>102.0</td>\n      <td>183.0</td>\n      <td>208.0</td>\n      <td>64.0</td>\n      <td>73.0</td>\n      <td>75.000000</td>\n      <td>86.000000</td>\n      <td>173.000000</td>\n      <td>54.000000</td>\n      <td>59.000000</td>\n      <td>92.000000</td>\n      <td>192.000000</td>\n      <td>1555.000000</td>\n      <td>116.0</td>\n      <td>79.0</td>\n      <td>655.0</td>\n      <td>25.0</td>\n      <td>218.611111</td>\n      <td>1.898130e+05</td>\n    </tr>\n    <tr>\n      <th>15</th>\n      <td>171.000000</td>\n      <td>122.0</td>\n      <td>273.0</td>\n      <td>231.0</td>\n      <td>91.0</td>\n      <td>53.0</td>\n      <td>84.000000</td>\n      <td>81.333333</td>\n      <td>176.000000</td>\n      <td>67.333333</td>\n      <td>57.333333</td>\n      <td>89.000000</td>\n      <td>434.000000</td>\n      <td>1286.000000</td>\n      <td>711.0</td>\n      <td>64.0</td>\n      <td>731.0</td>\n      <td>59.0</td>\n      <td>265.611111</td>\n      <td>2.083205e+05</td>\n    </tr>\n    <tr>\n      <th>16</th>\n      <td>146.000000</td>\n      <td>167.0</td>\n      <td>271.0</td>\n      <td>249.0</td>\n      <td>65.0</td>\n      <td>77.0</td>\n      <td>81.000000</td>\n      <td>63.333333</td>\n      <td>167.666667</td>\n      <td>56.000000</td>\n      <td>67.000000</td>\n      <td>110.666667</td>\n      <td>494.666667</td>\n      <td>1121.333333</td>\n      <td>393.0</td>\n      <td>36.0</td>\n      <td>586.0</td>\n      <td>50.0</td>\n      <td>233.425926</td>\n      <td>1.404547e+05</td>\n    </tr>\n    <tr>\n      <th>17</th>\n      <td>181.000000</td>\n      <td>166.0</td>\n      <td>210.0</td>\n      <td>261.0</td>\n      <td>71.0</td>\n      <td>89.0</td>\n      <td>97.333333</td>\n      <td>70.000000</td>\n      <td>156.333333</td>\n      <td>61.000000</td>\n      <td>121.666667</td>\n      <td>133.000000</td>\n      <td>395.000000</td>\n      <td>726.000000</td>\n      <td>120.0</td>\n      <td>43.0</td>\n      <td>348.0</td>\n      <td>33.0</td>\n      <td>182.351852</td>\n      <td>5.290734e+04</td>\n    </tr>\n    <tr>\n      <th>18</th>\n      <td>165.000000</td>\n      <td>103.0</td>\n      <td>244.0</td>\n      <td>212.0</td>\n      <td>91.0</td>\n      <td>122.0</td>\n      <td>93.000000</td>\n      <td>72.333333</td>\n      <td>211.000000</td>\n      <td>66.333333</td>\n      <td>128.000000</td>\n      <td>120.000000</td>\n      <td>500.000000</td>\n      <td>673.000000</td>\n      <td>55.0</td>\n      <td>47.0</td>\n      <td>167.0</td>\n      <td>39.0</td>\n      <td>172.703704</td>\n      <td>4.536615e+04</td>\n    </tr>\n    <tr>\n      <th>19</th>\n      <td>132.000000</td>\n      <td>82.0</td>\n      <td>195.0</td>\n      <td>155.0</td>\n      <td>95.0</td>\n      <td>133.0</td>\n      <td>117.333333</td>\n      <td>57.000000</td>\n      <td>207.000000</td>\n      <td>82.333333</td>\n      <td>131.000000</td>\n      <td>108.000000</td>\n      <td>525.000000</td>\n      <td>699.333333</td>\n      <td>41.0</td>\n      <td>50.0</td>\n      <td>233.0</td>\n      <td>65.0</td>\n      <td>172.666667</td>\n      <td>4.770540e+04</td>\n    </tr>\n    <tr>\n      <th>20</th>\n      <td>127.000000</td>\n      <td>121.0</td>\n      <td>165.0</td>\n      <td>154.0</td>\n      <td>84.0</td>\n      <td>139.0</td>\n      <td>105.000000</td>\n      <td>45.000000</td>\n      <td>207.333333</td>\n      <td>84.000000</td>\n      <td>108.000000</td>\n      <td>177.666667</td>\n      <td>381.333333</td>\n      <td>713.000000</td>\n      <td>59.0</td>\n      <td>52.0</td>\n      <td>87.0</td>\n      <td>49.0</td>\n      <td>158.796296</td>\n      <td>4.000711e+04</td>\n    </tr>\n    <tr>\n      <th>21</th>\n      <td>118.000000</td>\n      <td>114.0</td>\n      <td>184.0</td>\n      <td>121.0</td>\n      <td>83.0</td>\n      <td>155.0</td>\n      <td>75.000000</td>\n      <td>67.000000</td>\n      <td>177.000000</td>\n      <td>99.666667</td>\n      <td>116.333333</td>\n      <td>248.000000</td>\n      <td>333.000000</td>\n      <td>726.000000</td>\n      <td>106.0</td>\n      <td>56.0</td>\n      <td>154.0</td>\n      <td>44.0</td>\n      <td>165.388889</td>\n      <td>4.216989e+04</td>\n    </tr>\n    <tr>\n      <th>22</th>\n      <td>109.000000</td>\n      <td>108.0</td>\n      <td>166.0</td>\n      <td>94.0</td>\n      <td>102.0</td>\n      <td>103.0</td>\n      <td>75.000000</td>\n      <td>98.000000</td>\n      <td>185.333333</td>\n      <td>102.333333</td>\n      <td>127.000000</td>\n      <td>228.333333</td>\n      <td>281.000000</td>\n      <td>765.333333</td>\n      <td>48.0</td>\n      <td>51.0</td>\n      <td>54.0</td>\n      <td>48.0</td>\n      <td>152.518519</td>\n      <td>4.253573e+04</td>\n    </tr>\n    <tr>\n      <th>23</th>\n      <td>103.000000</td>\n      <td>119.0</td>\n      <td>123.0</td>\n      <td>106.0</td>\n      <td>139.0</td>\n      <td>63.0</td>\n      <td>128.333333</td>\n      <td>114.000000</td>\n      <td>171.333333</td>\n      <td>94.000000</td>\n      <td>172.000000</td>\n      <td>209.000000</td>\n      <td>238.000000</td>\n      <td>599.333333</td>\n      <td>18.0</td>\n      <td>59.0</td>\n      <td>68.0</td>\n      <td>48.0</td>\n      <td>142.888889</td>\n      <td>2.805280e+04</td>\n    </tr>\n    <tr>\n      <th>24</th>\n      <td>104.000000</td>\n      <td>127.0</td>\n      <td>113.0</td>\n      <td>117.0</td>\n      <td>96.0</td>\n      <td>59.0</td>\n      <td>133.000000</td>\n      <td>117.333333</td>\n      <td>166.000000</td>\n      <td>73.666667</td>\n      <td>92.000000</td>\n      <td>182.000000</td>\n      <td>319.000000</td>\n      <td>376.000000</td>\n      <td>89.0</td>\n      <td>97.0</td>\n      <td>57.0</td>\n      <td>38.0</td>\n      <td>130.888889</td>\n      <td>1.308725e+04</td>\n    </tr>\n    <tr>\n      <th>25</th>\n      <td>81.000000</td>\n      <td>122.0</td>\n      <td>163.0</td>\n      <td>124.0</td>\n      <td>90.0</td>\n      <td>72.0</td>\n      <td>95.000000</td>\n      <td>100.333333</td>\n      <td>167.333333</td>\n      <td>92.333333</td>\n      <td>119.000000</td>\n      <td>155.000000</td>\n      <td>274.000000</td>\n      <td>373.333333</td>\n      <td>45.0</td>\n      <td>83.0</td>\n      <td>33.0</td>\n      <td>28.0</td>\n      <td>123.185185</td>\n      <td>1.150180e+04</td>\n    </tr>\n    <tr>\n      <th>26</th>\n      <td>113.000000</td>\n      <td>79.0</td>\n      <td>152.0</td>\n      <td>72.0</td>\n      <td>113.0</td>\n      <td>72.0</td>\n      <td>78.000000</td>\n      <td>106.000000</td>\n      <td>152.333333</td>\n      <td>84.000000</td>\n      <td>172.000000</td>\n      <td>206.333333</td>\n      <td>197.333333</td>\n      <td>382.333333</td>\n      <td>33.0</td>\n      <td>33.0</td>\n      <td>166.0</td>\n      <td>48.0</td>\n      <td>125.518519</td>\n      <td>1.265032e+04</td>\n    </tr>\n    <tr>\n      <th>27</th>\n      <td>97.000000</td>\n      <td>126.0</td>\n      <td>113.0</td>\n      <td>72.0</td>\n      <td>79.0</td>\n      <td>61.0</td>\n      <td>102.000000</td>\n      <td>99.333333</td>\n      <td>124.000000</td>\n      <td>78.333333</td>\n      <td>156.000000</td>\n      <td>258.000000</td>\n      <td>134.000000</td>\n      <td>386.000000</td>\n      <td>35.0</td>\n      <td>56.0</td>\n      <td>96.0</td>\n      <td>68.0</td>\n      <td>118.925926</td>\n      <td>1.089248e+04</td>\n    </tr>\n    <tr>\n      <th>28</th>\n      <td>96.000000</td>\n      <td>168.0</td>\n      <td>102.0</td>\n      <td>95.0</td>\n      <td>40.0</td>\n      <td>82.0</td>\n      <td>105.000000</td>\n      <td>78.333333</td>\n      <td>124.666667</td>\n      <td>71.333333</td>\n      <td>138.000000</td>\n      <td>192.666667</td>\n      <td>114.000000</td>\n      <td>373.333333</td>\n      <td>30.0</td>\n      <td>83.0</td>\n      <td>106.0</td>\n      <td>49.0</td>\n      <td>113.796296</td>\n      <td>1.094626e+04</td>\n    </tr>\n    <tr>\n      <th>29</th>\n      <td>86.000000</td>\n      <td>146.0</td>\n      <td>103.0</td>\n      <td>91.0</td>\n      <td>53.0</td>\n      <td>82.0</td>\n      <td>131.333333</td>\n      <td>70.000000</td>\n      <td>113.333333</td>\n      <td>76.000000</td>\n      <td>126.333333</td>\n      <td>128.000000</td>\n      <td>149.000000</td>\n      <td>340.000000</td>\n      <td>49.0</td>\n      <td>77.0</td>\n      <td>64.0</td>\n      <td>10.0</td>\n      <td>105.277778</td>\n      <td>9.875421e+03</td>\n    </tr>\n    <tr>\n      <th>30</th>\n      <td>77.000000</td>\n      <td>117.0</td>\n      <td>92.0</td>\n      <td>133.0</td>\n      <td>114.0</td>\n      <td>75.0</td>\n      <td>145.000000</td>\n      <td>79.666667</td>\n      <td>120.000000</td>\n      <td>83.000000</td>\n      <td>101.000000</td>\n      <td>154.666667</td>\n      <td>179.000000</td>\n      <td>268.000000</td>\n      <td>25.0</td>\n      <td>71.0</td>\n      <td>26.0</td>\n      <td>19.0</td>\n      <td>104.407407</td>\n      <td>6.912241e+03</td>\n    </tr>\n    <tr>\n      <th>31</th>\n      <td>52.000000</td>\n      <td>60.0</td>\n      <td>92.0</td>\n      <td>109.0</td>\n      <td>102.0</td>\n      <td>72.0</td>\n      <td>115.666667</td>\n      <td>85.000000</td>\n      <td>131.000000</td>\n      <td>113.000000</td>\n      <td>101.000000</td>\n      <td>182.000000</td>\n      <td>179.000000</td>\n      <td>253.666667</td>\n      <td>19.0</td>\n      <td>65.0</td>\n      <td>9.0</td>\n      <td>32.0</td>\n      <td>98.462963</td>\n      <td>7.512964e+03</td>\n    </tr>\n    <tr>\n      <th>32</th>\n      <td>68.000000</td>\n      <td>64.0</td>\n      <td>97.0</td>\n      <td>72.0</td>\n      <td>57.0</td>\n      <td>67.0</td>\n      <td>63.000000</td>\n      <td>60.000000</td>\n      <td>160.000000</td>\n      <td>122.000000</td>\n      <td>90.000000</td>\n      <td>197.333333</td>\n      <td>151.000000</td>\n      <td>231.000000</td>\n      <td>44.0</td>\n      <td>62.0</td>\n      <td>20.0</td>\n      <td>33.0</td>\n      <td>92.129630</td>\n      <td>6.530493e+03</td>\n    </tr>\n    <tr>\n      <th>33</th>\n      <td>85.000000</td>\n      <td>85.0</td>\n      <td>82.0</td>\n      <td>59.0</td>\n      <td>72.0</td>\n      <td>82.0</td>\n      <td>72.000000</td>\n      <td>53.000000</td>\n      <td>147.000000</td>\n      <td>101.666667</td>\n      <td>96.000000</td>\n      <td>213.000000</td>\n      <td>118.000000</td>\n      <td>208.000000</td>\n      <td>37.0</td>\n      <td>64.0</td>\n      <td>32.0</td>\n      <td>36.0</td>\n      <td>91.259259</td>\n      <td>5.149140e+03</td>\n    </tr>\n    <tr>\n      <th>34</th>\n      <td>117.000000</td>\n      <td>66.0</td>\n      <td>73.0</td>\n      <td>79.0</td>\n      <td>95.0</td>\n      <td>44.0</td>\n      <td>93.000000</td>\n      <td>74.333333</td>\n      <td>110.666667</td>\n      <td>42.000000</td>\n      <td>114.000000</td>\n      <td>172.666667</td>\n      <td>112.333333</td>\n      <td>197.333333</td>\n      <td>12.0</td>\n      <td>64.0</td>\n      <td>32.0</td>\n      <td>61.0</td>\n      <td>86.629630</td>\n      <td>4.647031e+03</td>\n    </tr>\n    <tr>\n      <th>35</th>\n      <td>116.000000</td>\n      <td>77.0</td>\n      <td>94.0</td>\n      <td>60.0</td>\n      <td>103.0</td>\n      <td>23.0</td>\n      <td>135.000000</td>\n      <td>100.000000</td>\n      <td>98.000000</td>\n      <td>17.000000</td>\n      <td>114.333333</td>\n      <td>133.000000</td>\n      <td>70.000000</td>\n      <td>157.000000</td>\n      <td>6.0</td>\n      <td>83.0</td>\n      <td>36.0</td>\n      <td>81.0</td>\n      <td>83.518519</td>\n      <td>2.894755e+03</td>\n    </tr>\n    <tr>\n      <th>36</th>\n      <td>81.000000</td>\n      <td>68.0</td>\n      <td>140.0</td>\n      <td>81.0</td>\n      <td>86.0</td>\n      <td>70.0</td>\n      <td>129.000000</td>\n      <td>98.666667</td>\n      <td>106.000000</td>\n      <td>24.666667</td>\n      <td>107.000000</td>\n      <td>108.666667</td>\n      <td>79.000000</td>\n      <td>100.000000</td>\n      <td>19.0</td>\n      <td>76.0</td>\n      <td>38.0</td>\n      <td>59.0</td>\n      <td>81.722222</td>\n      <td>2.029279e+03</td>\n    </tr>\n    <tr>\n      <th>37</th>\n      <td>85.000000</td>\n      <td>90.0</td>\n      <td>116.0</td>\n      <td>92.0</td>\n      <td>134.0</td>\n      <td>66.0</td>\n      <td>109.333333</td>\n      <td>76.000000</td>\n      <td>116.000000</td>\n      <td>58.333333</td>\n      <td>86.000000</td>\n      <td>85.000000</td>\n      <td>106.000000</td>\n      <td>101.333333</td>\n      <td>82.0</td>\n      <td>74.0</td>\n      <td>55.0</td>\n      <td>81.0</td>\n      <td>89.611111</td>\n      <td>1.804655e+03</td>\n    </tr>\n    <tr>\n      <th>38</th>\n      <td>120.000000</td>\n      <td>86.0</td>\n      <td>100.0</td>\n      <td>80.0</td>\n      <td>130.0</td>\n      <td>40.0</td>\n      <td>90.000000</td>\n      <td>69.000000</td>\n      <td>147.333333</td>\n      <td>52.000000</td>\n      <td>92.000000</td>\n      <td>102.000000</td>\n      <td>83.333333</td>\n      <td>125.000000</td>\n      <td>46.0</td>\n      <td>55.0</td>\n      <td>60.0</td>\n      <td>66.0</td>\n      <td>85.759259</td>\n      <td>2.267888e+03</td>\n    </tr>\n    <tr>\n      <th>39</th>\n      <td>97.000000</td>\n      <td>105.0</td>\n      <td>83.0</td>\n      <td>85.0</td>\n      <td>131.0</td>\n      <td>47.0</td>\n      <td>140.000000</td>\n      <td>67.333333</td>\n      <td>139.000000</td>\n      <td>40.333333</td>\n      <td>99.333333</td>\n      <td>119.000000</td>\n      <td>85.000000</td>\n      <td>111.000000</td>\n      <td>45.0</td>\n      <td>47.0</td>\n      <td>64.0</td>\n      <td>56.0</td>\n      <td>86.722222</td>\n      <td>3.355057e+03</td>\n    </tr>\n    <tr>\n      <th>40</th>\n      <td>78.000000</td>\n      <td>72.0</td>\n      <td>107.0</td>\n      <td>69.0</td>\n      <td>117.0</td>\n      <td>94.0</td>\n      <td>122.000000</td>\n      <td>78.333333</td>\n      <td>129.666667</td>\n      <td>60.333333</td>\n      <td>90.000000</td>\n      <td>134.000000</td>\n      <td>79.333333</td>\n      <td>109.333333</td>\n      <td>28.0</td>\n      <td>57.0</td>\n      <td>58.0</td>\n      <td>58.0</td>\n      <td>85.611111</td>\n      <td>1.900676e+03</td>\n    </tr>\n    <tr>\n      <th>41</th>\n      <td>112.000000</td>\n      <td>47.0</td>\n      <td>110.0</td>\n      <td>74.0</td>\n      <td>102.0</td>\n      <td>121.0</td>\n      <td>70.333333</td>\n      <td>77.000000</td>\n      <td>120.000000</td>\n      <td>84.000000</td>\n      <td>89.333333</td>\n      <td>150.000000</td>\n      <td>119.000000</td>\n      <td>71.000000</td>\n      <td>35.0</td>\n      <td>64.0</td>\n      <td>38.0</td>\n      <td>35.0</td>\n      <td>84.370370</td>\n      <td>1.996813e+03</td>\n    </tr>\n    <tr>\n      <th>42</th>\n      <td>90.000000</td>\n      <td>73.0</td>\n      <td>99.0</td>\n      <td>69.0</td>\n      <td>46.0</td>\n      <td>97.0</td>\n      <td>60.000000</td>\n      <td>76.000000</td>\n      <td>94.000000</td>\n      <td>81.666667</td>\n      <td>72.000000</td>\n      <td>150.000000</td>\n      <td>100.000000</td>\n      <td>100.000000</td>\n      <td>50.0</td>\n      <td>64.0</td>\n      <td>39.0</td>\n      <td>18.0</td>\n      <td>76.592593</td>\n      <td>1.721056e+03</td>\n    </tr>\n    <tr>\n      <th>43</th>\n      <td>81.000000</td>\n      <td>104.0</td>\n      <td>100.0</td>\n      <td>66.0</td>\n      <td>87.0</td>\n      <td>70.0</td>\n      <td>86.666667</td>\n      <td>80.000000</td>\n      <td>95.000000</td>\n      <td>72.333333</td>\n      <td>116.000000</td>\n      <td>151.000000</td>\n      <td>106.000000</td>\n      <td>106.000000</td>\n      <td>44.0</td>\n      <td>65.0</td>\n      <td>37.0</td>\n      <td>21.0</td>\n      <td>82.666667</td>\n      <td>1.868883e+03</td>\n    </tr>\n    <tr>\n      <th>44</th>\n      <td>89.000000</td>\n      <td>106.0</td>\n      <td>83.0</td>\n      <td>78.0</td>\n      <td>87.0</td>\n      <td>47.0</td>\n      <td>90.000000</td>\n      <td>99.000000</td>\n      <td>85.333333</td>\n      <td>88.000000</td>\n      <td>60.000000</td>\n      <td>134.000000</td>\n      <td>98.000000</td>\n      <td>98.333333</td>\n      <td>47.0</td>\n      <td>66.0</td>\n      <td>27.0</td>\n      <td>6.0</td>\n      <td>77.148148</td>\n      <td>1.726292e+03</td>\n    </tr>\n    <tr>\n      <th>45</th>\n      <td>84.000000</td>\n      <td>94.0</td>\n      <td>92.0</td>\n      <td>117.0</td>\n      <td>124.0</td>\n      <td>39.0</td>\n      <td>93.000000</td>\n      <td>88.666667</td>\n      <td>84.000000</td>\n      <td>88.333333</td>\n      <td>56.000000</td>\n      <td>117.000000</td>\n      <td>93.000000</td>\n      <td>69.000000</td>\n      <td>29.0</td>\n      <td>59.0</td>\n      <td>33.0</td>\n      <td>24.0</td>\n      <td>76.888889</td>\n      <td>1.864109e+03</td>\n    </tr>\n    <tr>\n      <th>46</th>\n      <td>88.000000</td>\n      <td>128.0</td>\n      <td>58.0</td>\n      <td>92.0</td>\n      <td>105.0</td>\n      <td>61.0</td>\n      <td>93.000000</td>\n      <td>80.333333</td>\n      <td>87.333333</td>\n      <td>64.333333</td>\n      <td>60.000000</td>\n      <td>103.666667</td>\n      <td>84.333333</td>\n      <td>73.333333</td>\n      <td>19.0</td>\n      <td>45.0</td>\n      <td>60.0</td>\n      <td>27.0</td>\n      <td>73.851852</td>\n      <td>1.484981e+03</td>\n    </tr>\n    <tr>\n      <th>47</th>\n      <td>79.000000</td>\n      <td>84.0</td>\n      <td>63.0</td>\n      <td>61.0</td>\n      <td>78.0</td>\n      <td>59.0</td>\n      <td>75.000000</td>\n      <td>55.000000</td>\n      <td>120.333333</td>\n      <td>55.000000</td>\n      <td>88.000000</td>\n      <td>91.000000</td>\n      <td>66.000000</td>\n      <td>107.333333</td>\n      <td>20.0</td>\n      <td>55.0</td>\n      <td>29.0</td>\n      <td>18.0</td>\n      <td>66.870370</td>\n      <td>1.320764e+03</td>\n    </tr>\n  </tbody>\n</table>\n</div>"
     },
     "metadata": {},
     "execution_count": 26
    }
   ],
   "source": [
    "# len(ZoneAssignments[key])\n",
    "avgFrm"
   ]
  },
  {
   "source": [
    "## Zoning the Data"
   ],
   "cell_type": "markdown",
   "metadata": {}
  },
  {
   "cell_type": "code",
   "execution_count": 27,
   "metadata": {},
   "outputs": [],
   "source": [
    "zonedAvgFrame = {}\n",
    "for key in ZoneAssignments:\n",
    "    occourances = [list(ZoneAssignments[key]).count(x) for x in set(ZoneAssignments[key])]\n",
    "    zoneRunSum = [0]*numberOfZones\n",
    "    zonedAvgFrame[key] = averagedFrame[key]\n",
    "    for idx,column in enumerate(columns):\n",
    "        zoneRunSum[ZoneAssignments[key][idx]] += zonedAvgFrame[key][column]\n",
    "    for idx in range(numberOfZones):\n",
    "        zonedAvgFrame[key]['Zone '+str(idx+1)] = zoneRunSum[idx]/occourances[idx]"
   ]
  },
  {
   "cell_type": "code",
   "execution_count": 28,
   "metadata": {},
   "outputs": [
    {
     "output_type": "execute_result",
     "data": {
      "text/plain": [
       "0      73.5\n",
       "1      83.5\n",
       "2      94.0\n",
       "3      41.5\n",
       "4      97.0\n",
       "5      62.5\n",
       "6      59.5\n",
       "7      61.0\n",
       "8     216.0\n",
       "9     488.0\n",
       "10    783.5\n",
       "11    723.5\n",
       "12    521.0\n",
       "13    644.5\n",
       "14    385.5\n",
       "15    721.0\n",
       "16    489.5\n",
       "17    234.0\n",
       "18    111.0\n",
       "19    137.0\n",
       "20     73.0\n",
       "21    130.0\n",
       "22     51.0\n",
       "23     43.0\n",
       "24     73.0\n",
       "25     39.0\n",
       "26     99.5\n",
       "27     65.5\n",
       "28     68.0\n",
       "29     56.5\n",
       "30     25.5\n",
       "31     14.0\n",
       "32     32.0\n",
       "33     34.5\n",
       "34     22.0\n",
       "35     21.0\n",
       "36     28.5\n",
       "37     68.5\n",
       "38     53.0\n",
       "39     54.5\n",
       "40     43.0\n",
       "41     36.5\n",
       "42     44.5\n",
       "43     40.5\n",
       "44     37.0\n",
       "45     31.0\n",
       "46     39.5\n",
       "47     24.5\n",
       "Name: Zone 4, dtype: float64"
      ]
     },
     "metadata": {},
     "execution_count": 28
    }
   ],
   "source": [
    "zonedAvgFrame[key]['Zone '+str(idx)]"
   ]
  },
  {
   "cell_type": "code",
   "execution_count": 29,
   "metadata": {},
   "outputs": [],
   "source": [
    "# relies on columns still being the values of S-01 - last sensor\n",
    "\n",
    "# Declare an empty dictionary for storing the averaged data for each expirement at the end\n",
    "zonedExpFrame = {}\n",
    "# create a list of all of the various dict keys in expirementFrame so that we can iterate through them to get the data\n",
    "labels = list(expirementFrame.keys())\n",
    "# Take the labels list and remove the Exp # from it, so that now we have a list of keys that we can use to correctly save to create correctly corresponding keys for a dictionary that will store the averages\n",
    "keyList = [x.split(' Exp')[0] for x in labels]\n",
    "\n",
    "for index,exp in enumerate(labels):\n",
    "    # set the key variable to correspond to the exp variable\n",
    "    key = keyList[index]\n",
    "    # Create a runnning sum to keep track of the values\n",
    "    zoneRunSum = [0]*numberOfZones\n",
    "    # set the give the zoneExpFrame the same \n",
    "    zonedExpFrame[exp] = expirementFrame[exp]\n",
    "    occourances = [list(ZoneAssignments[key]).count(x) for x in set(ZoneAssignments[key])]\n",
    "    for idx,column in enumerate(columns):\n",
    "        zoneRunSum[ZoneAssignments[key][idx]] += zonedExpFrame[exp][column]\n",
    "    for idx in range(numberOfZones):\n",
    "        zonedExpFrame[exp]['Zone '+str(idx+1)] = zoneRunSum[idx]/occourances[idx]\n",
    "        \n"
   ]
  },
  {
   "cell_type": "code",
   "execution_count": 30,
   "metadata": {},
   "outputs": [
    {
     "output_type": "execute_result",
     "data": {
      "text/plain": [
       "'S-19'"
      ]
     },
     "metadata": {},
     "execution_count": 30
    }
   ],
   "source": [
    "column"
   ]
  },
  {
   "source": [
    "zonedExpFrame[exp]['Zone '+str(idx+1)]==zonedExpFrame['EE504 Door Open Exp 1']['Zone '+str(idx+1)]"
   ],
   "cell_type": "markdown",
   "metadata": {}
  },
  {
   "cell_type": "code",
   "execution_count": 31,
   "metadata": {},
   "outputs": [
    {
     "output_type": "execute_result",
     "data": {
      "text/plain": [
       "'S-19'"
      ]
     },
     "metadata": {},
     "execution_count": 31
    }
   ],
   "source": [
    "column"
   ]
  },
  {
   "cell_type": "code",
   "execution_count": 32,
   "metadata": {},
   "outputs": [],
   "source": [
    "directory = './averagedData'\n",
    "if not os.path.exists(directory):\n",
    "    os.makedirs(directory)\n",
    "for x in averagedFrame:\n",
    "    temp=averagedFrame[x]\n",
    "    location = os.path.join(directory,x+'.csv')\n",
    "    temp.to_csv(location,index=False)\n",
    "\n"
   ]
  },
  {
   "cell_type": "code",
   "execution_count": 33,
   "metadata": {},
   "outputs": [],
   "source": [
    "directory = './expirementData'\n",
    "if not os.path.exists(directory):\n",
    "    os.makedirs(directory)\n",
    "for x in expirementFrame:\n",
    "    temp=expirementFrame[x]\n",
    "    location = os.path.join(directory,x+'.csv')\n",
    "    temp.to_csv(location,index=False)"
   ]
  },
  {
   "source": [
    "### Increase the Resolution\n",
    "pad out the dataframes to have values for every second."
   ],
   "cell_type": "markdown",
   "metadata": {}
  },
  {
   "cell_type": "code",
   "execution_count": 34,
   "metadata": {},
   "outputs": [],
   "source": [
    "stretchedDF = {}\n",
    "for i in averagedFrame:\n",
    "    tempFrame = averagedFrame[i].values\n",
    "    tempList = []\n",
    "    for idx,x in enumerate(tempFrame):\n",
    "        try:\n",
    "            increment = (tempFrame[idx+1] - x)/10\n",
    "            for count in range(10):\n",
    "                tempList.append(x+increment*count)\n",
    "        except IndexError:\n",
    "            tempList.append(x)\n",
    "            continue\n",
    "    stretchedDF[i] = pd.DataFrame(tempList, columns = expirementFrame[list(expirementFrame.keys())[0]].columns)     "
   ]
  },
  {
   "cell_type": "code",
   "execution_count": 35,
   "metadata": {},
   "outputs": [],
   "source": [
    "stretchExpDf = {}\n",
    "for i in expirementFrame:\n",
    "    tempFrame = expirementFrame[i].values\n",
    "    tempList = []\n",
    "    for idx,x in enumerate(tempFrame):\n",
    "        try:\n",
    "            increment = (tempFrame[idx+1] - x)/10\n",
    "            for count in range(10):\n",
    "                tempList.append(x+increment*count)\n",
    "        except IndexError:\n",
    "            tempList.append(x)\n",
    "            continue\n",
    "    stretchExpDf[i] = pd.DataFrame(tempList, columns = expirementFrame[list(expirementFrame.keys())[0]].columns)"
   ]
  },
  {
   "cell_type": "code",
   "execution_count": 36,
   "metadata": {},
   "outputs": [],
   "source": [
    "directory = './stretchedAvgData'\n",
    "if not os.path.exists(directory):\n",
    "    os.makedirs(directory)\n",
    "for x in stretchedDF:\n",
    "    temp=stretchedDF[x]\n",
    "    location = os.path.join(directory,x+'.csv')\n",
    "    temp.to_csv(location,index=False)"
   ]
  },
  {
   "cell_type": "code",
   "execution_count": 37,
   "metadata": {},
   "outputs": [],
   "source": [
    "directory = './stretchedExpirementData'\n",
    "if not os.path.exists(directory):\n",
    "    os.makedirs(directory)\n",
    "for x in stretchExpDf:\n",
    "    temp=stretchExpDf[x]\n",
    "    location = os.path.join(directory,x+'.csv')\n",
    "    temp.to_csv(location,index=False)"
   ]
  },
  {
   "cell_type": "code",
   "execution_count": 38,
   "metadata": {},
   "outputs": [
    {
     "output_type": "stream",
     "name": "stdout",
     "text": [
      "21.35788893699646\n"
     ]
    }
   ],
   "source": [
    "end = clock.time()\n",
    "print(end-begin)"
   ]
  },
  {
   "cell_type": "code",
   "execution_count": null,
   "metadata": {},
   "outputs": [],
   "source": []
  }
 ]
}